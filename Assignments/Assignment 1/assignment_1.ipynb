{
 "cells": [
  {
   "cell_type": "markdown",
   "metadata": {},
   "source": [
    "# Assignment 1: Introduction to Python and Working with Data\n",
    "\n",
    "This assignment covers **Chapters 1-6** from the textbook as well as lecture material from the first two weeks. Please complete this assignment by providing answers in cells after the question. Use **Code** cells to write and run any code you need to answer the question and **Markdown** cells to write out answers in words. After you are finished with the assignment, remember to download it as an **.html file** and submit it in **ELMS**.\n",
    "\n",
    "This assignment is due by the time and data specified on ELMS."
   ]
  },
  {
   "cell_type": "markdown",
   "metadata": {},
   "source": [
    "Remember, before you begin, you should import any libraries that you might need."
   ]
  },
  {
   "cell_type": "code",
   "execution_count": null,
   "metadata": {},
   "outputs": [],
   "source": [
    "# load required packages\n",
    "\n"
   ]
  },
  {
   "cell_type": "markdown",
   "metadata": {},
   "source": [
    "### Question 1. Python Knowledge Check\n",
    "\n",
    "For each question below, provide the most correct answer using text or code depending on what the question asks for."
   ]
  },
  {
   "cell_type": "markdown",
   "metadata": {},
   "source": [
    "**a)** Why would this code generate an error? In addition to your explanation, provide the corrected code below your answer. (Note: There may be multiple errors.)\n",
    "\n",
    "x == 2\n",
    "\n",
    "y = x + 2\n",
    "\n",
    "print(x*Y)"
   ]
  },
  {
   "cell_type": "markdown",
   "metadata": {},
   "source": [
    "**b)** In your own words, explain the difference between arrays, lists, and Tables and when you might use one vs. another. "
   ]
  },
  {
   "cell_type": "markdown",
   "metadata": {},
   "source": [
    "**c)** If I want to subset the first element of a five-element array called \"numbers\", how would I do that? How are two ways I reference the last element? Create an array with five numbers and illustrate these three requests. "
   ]
  },
  {
   "cell_type": "markdown",
   "metadata": {},
   "source": [
    "**d)** Why would this code generate an error? In addition to your explanation, provide the corrected code below your answer. (Note: There may be multiple errors.)\n",
    "\n",
    "check = datascience.make_array(123, 42.213, 10123)\n",
    "\n",
    "new_check = check*2 print(new_check)"
   ]
  },
  {
   "cell_type": "markdown",
   "metadata": {},
   "source": [
    "### Question 2. Basic Python Commands\n",
    "\n",
    "For each question below, use Python to find the answer. Remember to show all work and include all code used to reach your solution. **(You will want to insert \"code\" chunks below each question to show your code.)**"
   ]
  },
  {
   "cell_type": "markdown",
   "metadata": {},
   "source": [
    "**a)** What is the value of $3*3 + 2 $?"
   ]
  },
  {
   "cell_type": "markdown",
   "metadata": {},
   "source": [
    "**b)** What is the value of $127$ to the 5th power, divided by 41?"
   ]
  },
  {
   "cell_type": "markdown",
   "metadata": {},
   "source": [
    "**c)** Create new objects called `interest`, `money`, and `years` to calculate how much money you will have in 10 years if you start out with $10,000 and earn interest compounded yearly at a rate of 2%. Make sure you assign the appropriate values to the objects you just created, then use those objects to calculate the value. \n",
    "\n",
    "*Hint: Compound interest works by multiplying the money by 1 + the interest rate every time it's compounded.*"
   ]
  },
  {
   "cell_type": "markdown",
   "metadata": {},
   "source": [
    "**d)** What if the yearly interest rate was 1.5%? Copy and paste the code from above and explain what you needed to change to find the new value."
   ]
  },
  {
   "cell_type": "markdown",
   "metadata": {},
   "source": [
    "### Question 3. Working with Arrays"
   ]
  },
  {
   "cell_type": "markdown",
   "metadata": {},
   "source": [
    "**a)** Create an array that has five values in it: 0, 1, 2, 3, 4. Assign it to `a`. Add 5 to each number, then multiply each number by 3. Find the sum of each number in the array. "
   ]
  },
  {
   "cell_type": "markdown",
   "metadata": {},
   "source": [
    "**b)** Print out a string that says \"The answer to part a is \\_\", where the blank is filled with the answer to part a."
   ]
  },
  {
   "cell_type": "markdown",
   "metadata": {},
   "source": [
    "**c)** Create an array called `b` containing five values: 1, 2, 3, 4, and 5. Print the array."
   ]
  },
  {
   "cell_type": "markdown",
   "metadata": {},
   "source": [
    "**d)** Add the values in `a` to the values in `b`, such that the first element of each are added together, the second elements of each are added together, and so on. You should end up with an array with five values. Assign this new array to `c`. "
   ]
  },
  {
   "cell_type": "markdown",
   "metadata": {},
   "source": [
    "**e)** Consider the problem in Question 2. What if you wanted to find out how much you would have at the end of 10 years if you started out with \\\\$1,000, \\\\$5,000, \\\\$10,000, or \\\\$20,000. Use an array to figure out the value at the end of the ten years for each of these starting values if the yearly interest rate is 3%."
   ]
  },
  {
   "cell_type": "markdown",
   "metadata": {},
   "source": [
    "### Question 4. Cards Against Humanity - Pulse of the Nation Public Opinion Poll\n",
    "\n",
    "In 2017, Cards Against Humanity partnered with Survey Sampling International to conduct a poll of the American public. A series of these were run monthly, with a different sample and questions changing over each month. Each survey included basic demographic information, such as Gender and Age, as well as a series of questions about opinion, lifestyle, or knowledge . As might be expected from a poll run by Cards Against Humanity, the questions varied from serious to silly and seemingly irrelevant. \n",
    "\n",
    "The data and descriptions of what questions were asked are available on Kaggle through [this link](https://www.kaggle.com/cardsagainsthumanity/pulse-of-the-nation/). For your convenience, we have made a subset of the data available to you in a CSV file called `201709-CAH_PulseOfTheNation.csv`. In this question, we will explore just some of the demographic variables in the survey and practice working with the data in Python."
   ]
  },
  {
   "cell_type": "markdown",
   "metadata": {},
   "source": [
    "**a)** Read in the dataset in the file `201709-CAH_PulseOfTheNation.csv` as a Table. Call the table `cah`."
   ]
  },
  {
   "cell_type": "markdown",
   "metadata": {},
   "source": [
    "**b)** Display the names of each of the columns of `cah`. "
   ]
  },
  {
   "cell_type": "markdown",
   "metadata": {},
   "source": [
    "**c)** Which of these best describes `Income`: **nominal categorical**, **ordinal categorical**, **discrete numerical**, or **continuous numerical**? What about `Gender`? `Age`? `Age Range`?"
   ]
  },
  {
   "cell_type": "markdown",
   "metadata": {},
   "source": [
    "**d)** Display the first row of `cah`. Then, display the first 5 rows of `cah`. "
   ]
  },
  {
   "cell_type": "markdown",
   "metadata": {},
   "source": [
    "**e)** Display the rows of the people with the top 5 incomes."
   ]
  },
  {
   "cell_type": "markdown",
   "metadata": {},
   "source": [
    "**f)** Create a new variable called `income` and assign just the `Income` column from the `cah` table to it. Show the first 5 values."
   ]
  },
  {
   "cell_type": "markdown",
   "metadata": {},
   "source": [
    "**g)** Create a new variable called `dem` and assign a subset of the `cah` table to it such that it contains only Democrats. Do the same with `rep` and Republicans. Display the first five rows of each table."
   ]
  }
 ],
 "metadata": {
  "kernelspec": {
   "display_name": "Python 3 (ipykernel)",
   "language": "python",
   "name": "python3"
  },
  "language_info": {
   "codemirror_mode": {
    "name": "ipython",
    "version": 3
   },
   "file_extension": ".py",
   "mimetype": "text/x-python",
   "name": "python",
   "nbconvert_exporter": "python",
   "pygments_lexer": "ipython3",
   "version": "3.8.10"
  },
  "toc": {
   "base_numbering": 1,
   "nav_menu": {},
   "number_sections": false,
   "sideBar": true,
   "skip_h1_title": false,
   "title_cell": "Table of Contents",
   "title_sidebar": "Contents",
   "toc_cell": false,
   "toc_position": {
    "height": "100px",
    "left": "10px",
    "top": "150px",
    "width": "165px"
   },
   "toc_section_display": true,
   "toc_window_display": false
  }
 },
 "nbformat": 4,
 "nbformat_minor": 4
}
