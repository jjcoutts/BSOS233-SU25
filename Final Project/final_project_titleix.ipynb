{
 "cells": [
  {
   "cell_type": "markdown",
   "id": "aea6eaeb-dce6-4539-ac56-a0af80e580c7",
   "metadata": {},
   "source": [
    "# Final Project Option: Title IX Support in the United States"
   ]
  },
  {
   "cell_type": "markdown",
   "id": "7b907a7a-d5ce-41c7-ad30-5707308ba86c",
   "metadata": {},
   "source": [
    "## The What: Project Description\n",
    "\n",
    "Assume you are working for a university lab which has been awarded a grant and is now tasked with finding how to **increase support for Title IX** in the United States. As part of this project, you have been tasked with analyzing some survey data in order to determine the **types of people who do and do not support Title IX** already, then to come up with a way to **identify who the university should try to reach with their education and advertising campaigns**. \n",
    "\n",
    "The questions you should answer in this report are:\n",
    "1) **Who supports Title IX currently?**\n",
    "2) **How can we predict people who might not support Title IX so that we can have better targeted education and persuasion campaigns?**\n",
    "\n",
    "You have some freedom of which variables to analyze for this scenario, but make sure it is related to this end goal and that there is a concrete plan of action that you recommend at the end. You are to write a report **describing the problem of interest**. Be sure in your report that you: 1.) calculate **descriptive statistics** to learn more about the data, 2.) run a **prediction** analysis, and 3.) **recommend a plan of action** based on what you found.\n",
    "\n",
    "## The Why: NACE Competencies\n",
    "Career preparedness is fundamental to this class. The National Association of Colleges and Employers (NACE: https://www.naceweb.org/career-readiness/) have identified the most important things they look for on the job market. This assignment targets four of those principles: \n",
    "\n",
    "1.) **Communication**: Clearly and effectively exchange information, ideas, facts, and perspectives with persons inside and outside of an organization.\n",
    "- Every good (data) scientist is a good communicator. You can know every analysis in the world, but it's meaningless if you can't explain it to someone well. \n",
    "- You will communicate to your audience through visualizations and written word. Be sure that a non-expert can follow along with your write-up of the results/model-building process.\n",
    "\n",
    "2.) **Equity and Inclusion**: Demonstrate the awareness, attitude, knowledge, and skills required to equitably engage and include people from different local and global cultures. Engage in anti-oppressive practices that actively challenge the systems, structures, and policies of racism and inequity.\n",
    "- Diversity, equity, and inclusion (DEI) is a framework more important than ever. If you don't account for individual differences (e.g., by race, gender) in your model-building, or never choose to study these topics at all, you will be doing yourself (and others) a disservice. \n",
    "- In this assignment alone, we're evaluating endorsement of Title IX (a policy which protects people from discrimination) and have variables at our disposal like race, ethinicity, and sex to work with. \n",
    "\n",
    "3.) **Technology**: Understand and leverage technologies ethically to enhance efficiencies, complete tasks, and accomplish goals.\n",
    "- We're in a tech field; you can't do data science by hand. \n",
    "- This assignment has us interact with Python and some of its key libraries, along with Jupyter Notebooks (frequently used on the job market) to synthesize our work. You will need to read in modules, datasets, and create visualizations, all in the same place.\n",
    "\n",
    "4.) **Critical Thinking**: Identify and respond to needs based upon an understanding of situational context and logical analysis of relevant information.\n",
    "- Critical thinking is the most important thing to be a data scientist. Data sets can be messy, model choices unclear, and results difficult to interpret. Every project is different from the last, and every data scientists will approach each problem differently. \n",
    "- This project is open-ended and there is no right answer. You will need to apply all of the ideas we've learned this semester at once and justify your decisions each step of the way."
   ]
  },
  {
   "cell_type": "markdown",
   "id": "1d939d0f-45cc-47c1-96a3-6e1471248821",
   "metadata": {},
   "source": [
    "## Data Source\n",
    "\n",
    "Your clients have given you a dataset from the Marist Center for Sports Communication, collected in June 2022. This is available in the `marist_sports_final_3.csv` file. The variable names and the question associated with each one is provided at the end of this document. Many of the variable names make it easy to see what the question was, but it might be harder to determine for others, so make sure you read through the documentation carefully! \n",
    "\n",
    "## Project Guidelines\n",
    "\n",
    "In your report, you must include:\n",
    "- A clear description of the **question of interest** and the variables you are studying.\n",
    "- **Descriptive statistics and visualizations** that help the reader understand the data better.\n",
    "- At least one **hypothesis test or bootstrap confidence interval**. \n",
    "- A **prediction** component using machine learning.\n",
    "- A clear **conclusion** based on your analysis, including a clear **plan of action**.\n",
    "\n",
    "Write your report in a separate Jupyter Notebook, formatting it so that the code is included with the text. Make sure to include a title and section headings by using '#' symbols in Markdown formatting. Write this as if it's a report to your client. "
   ]
  },
  {
   "cell_type": "markdown",
   "id": "902e453a-aba6-40f4-8223-6952e0997948",
   "metadata": {},
   "source": [
    "### Introduction (5 pts)\n",
    "\n",
    "You should start the project with a short description of the **problem of interest**. The basics of this problem are described above, but make sure that at some point you: describe what Title IX is, justify the variables you will and will not be looking at (citing sources if needed), and hypothesize how these variables might be connected. For example, if your hypothesis test or confidence interval will look at education level and support of Title IX, make sure you state why you want to look at those variables in particular. There are no length requirements, but this introduction should show you understand the baseline problem and have given thought to what to pull from the dataset. \n",
    "\n",
    "### Descriptive Statistics (5 pts)\n",
    "\n",
    "You must describe (visually, statistically) the key variables in your project. Your graphs must be related to the problem of interest and the key outcome(s). Make sure you include **numerical and/or graphical summaries** of each of your variables (at least **two** visuals).\n",
    "- Hint: It might be helpful to use this section to explore the **relationship between your outcome variable and your other variables**.\n",
    "- Tip: Consider a table with means/standard deviations of numeric variables and counts of categorical variables, visualizations for bivariate relationships or the most important variables.\n",
    "\n",
    "### Inference: Hypothesis Test or Bootstrap Confidence Interval (10 pts)\n",
    "\n",
    "You must include a **hypothesis test or confidence interval** in your report. This is how you should answer the first question. (i.e., Who supports Title IX currently?) Make a statement about differences in support of Title IX by certain variables. You have some freedom in the choice of variables to look at in this section, but make sure it relates back to the Introduction section.\n",
    "\n",
    "Make sure you are clear about what you are trying to find out when you explain the choice of hypothesis test or confidence interval. For example, if you are trying to see whether there are differences in opinion about Title IX based on another categorical variable, then you might be using a hypothesis test. However, if you are only interested in finding out the different proportions of people who support Title IX, then you might be using a confidence interval.\n",
    "\n",
    "### Prediction (10 pts)\n",
    "\n",
    "You must include at least one **prediction** component in your final project. You may need to do some data cleaning to get it in a state that you can use. Make sure you go through the full machine learning workflow to identify the best model. Remember, our primary goal in this section is to find a way to predict whether people will support Title IX or not. \n",
    "\n",
    "Make sure you are clear on what you are designating as the \"positive\" case, and the ultimate goal of the prediction. Identify the best model according to the chosen performance metric, and make sure to report the exact model specifications and the actual performance of the model. \n",
    "\n",
    "### Conclusion (5 pts)\n",
    "\n",
    "You must make some sort of proposal for a **plan of action**. This should be directly related to the problem you described at the very beginning."
   ]
  },
  {
   "cell_type": "markdown",
   "id": "e47a7896-1d7b-4f8b-89a6-16a76f7913b7",
   "metadata": {},
   "source": [
    "## Variables\n",
    "\n",
    "- **Birth Year**: What year were you born?\n",
    "- **Race**: What is your race? (White or Caucasian, Black or African-American, Asian or Asian Indian, American Indian or Native American or Eskimo, Native Hawaiian and Other Pacific Islander, Mixed, Other, Unsure)\n",
    "- **Ethnicity**: What is your ethnicity? (Latino or Hispanic, Not Latino or Hispanic)\n",
    "- **Education Level**:  What is your highest level of education? (LESS THAN HIGH SHOOL/LESS THAN 12TH GRADE, HIGH SCHOOL GRADUATE/HIGH SCHOOL DIPLOMA OR EQUIVALENT (i.e. GED), SOME COLLEGE BUT NO DEGREE, ASSOCIATES DEGREE (2 YEARS OF COLLEGE), TECHNICAL OR TRADE SCHOOL, BACHELORS DEGREE (BA-BS-4 YEARS OF COLLEGE), MASTERS/GRADUATE/PhD/PROFESSIONAL DEGREE (MA-MS-JD), FOREIGN DEGREE, UNSURE)\n",
    "- **Sex**: What sex do you identify with? (Male, Female, Non-binary)\n",
    "- **Political Affiliation**:  What political party are you registered with? (Democrat, Republican, Independent, Conservative, Libertarian, Working families, Other, Unsure)\n",
    "- **Has Children**: Do you have any children? (Yes, No)\n",
    "- **Presidential Vote**:  Who did you vote for in the 2020 Presidential Election? (Donald Trump, Joe Biden, Someone else, Didn't get a chance to vote, Unsure)\n",
    "- **Residential Location**: What sort of environment do you live in? (A big city, A small city, Suburban, A small town, Rural, Unsure)\n",
    "- **Sports Fan**: Do you consider yourself to be a sports fan, or not? (Yes, No, Unsure)\n",
    "- **Title IX Total**: In general, do you have a favorable or unfavorable impression of Title IX?\n",
    "- **Womens Sports Growth**: How responsible do you think Title IX has been for the growth in women's sports in the last few decades? Do you think it has been: (The main factor, A major factor but not the main factor"
   ]
  }
 ],
 "metadata": {
  "kernelspec": {
   "display_name": "Python 3 (ipykernel)",
   "language": "python",
   "name": "python3"
  },
  "language_info": {
   "codemirror_mode": {
    "name": "ipython",
    "version": 3
   },
   "file_extension": ".py",
   "mimetype": "text/x-python",
   "name": "python",
   "nbconvert_exporter": "python",
   "pygments_lexer": "ipython3",
   "version": "3.8.10"
  }
 },
 "nbformat": 4,
 "nbformat_minor": 5
}
