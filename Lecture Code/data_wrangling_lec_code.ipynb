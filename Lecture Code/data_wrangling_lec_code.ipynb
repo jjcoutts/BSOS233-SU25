{
 "cells": [
  {
   "cell_type": "code",
   "execution_count": null,
   "id": "f3dd5e03-62f3-413f-bdcc-eb580c4992ab",
   "metadata": {},
   "outputs": [],
   "source": [
    "# BSOS233 Lecture on Data Wrangling\n",
    "# Jupyter Notebook created by Jacob J. Coutts\n",
    "\n",
    "import numpy as np\n",
    "from datascience import *\n",
    "\n",
    "aggress = Table().with_columns(\n",
    "    \"Sex\", make_array(\"Male\", \"Female\", \"Female\", \"Male\", \"Female\"),\n",
    "    \"Aggression\", make_array(3.55, 4.75, 6.55, 5.25, 5.25)\n",
    ")\n",
    "aggress.group(\"Sex\", np.mean)\n",
    "\n",
    "np.mean(aggress.where(\"Sex\", are.equal_to(\"Female\")).column(\"Aggression\"))"
   ]
  },
  {
   "cell_type": "code",
   "execution_count": null,
   "id": "1e1a73ee-e1e6-4e71-915c-2ab35a72d55e",
   "metadata": {},
   "outputs": [],
   "source": [
    "nfl = Table.read_table(\"nfl_salary.csv\")\n",
    "nfl.group(\"team\")\n",
    "nfl_subset = nfl.select(\"team\",\"totalCash\")\n",
    "nfl_subset.group(\"team\", np.mean).sort(\"totalCash mean\",descending=True)"
   ]
  },
  {
   "cell_type": "code",
   "execution_count": null,
   "id": "2192454e-dd93-4aa9-9ae1-aae57f7fe266",
   "metadata": {},
   "outputs": [],
   "source": [
    "full_aggress = Table().with_columns(\n",
    "    \"Sex\", make_array(\"Male\", \"Female\", \"Female\", \"Male\", \"Female\"),\n",
    "    \"Aggression\", make_array(3.55, 4.75, 6.55, 5.25, 5.25),\n",
    "    \"Family_Anger\", make_array(\"Yes\", \"No\", \"Yes\", \"Yes\", \"No\")\n",
    ")\n",
    "\n",
    "full_aggress.group([\"Sex\",\"Family_Anger\"])\n",
    "\n",
    "full_aggress.group([\"Sex\",\"Family_Anger\"], np.mean)\n",
    "full_aggress.pivot(\"Sex\", \"Family_Anger\", values=\"Aggression\", collect=np.mean)"
   ]
  },
  {
   "cell_type": "code",
   "execution_count": null,
   "id": "863c5b62-f201-4bf0-aa0f-0b7246503e35",
   "metadata": {},
   "outputs": [],
   "source": [
    "salary = Table().with_columns(\n",
    " \"SES\", make_array(\"High\",\"Low\",\"Middle\",\"Low\",\"Middle\"),\n",
    " \"Salary\", make_array(100000, 35000, 60000, 29000, 52000)   \n",
    ")\n",
    "\n",
    "happy = Table().with_columns(\n",
    " \"SocioEconomic\", make_array(\"High\",\"Low\",\"Middle\"),\n",
    " \"Happy\", make_array(2.5, 4, 3.5)   \n",
    ")\n",
    "\n",
    "happy.join(\"SocioEconomic\",salary,\"SES\")"
   ]
  }
 ],
 "metadata": {
  "kernelspec": {
   "display_name": "Python 3 (ipykernel)",
   "language": "python",
   "name": "python3"
  },
  "language_info": {
   "codemirror_mode": {
    "name": "ipython",
    "version": 3
   },
   "file_extension": ".py",
   "mimetype": "text/x-python",
   "name": "python",
   "nbconvert_exporter": "python",
   "pygments_lexer": "ipython3",
   "version": "3.8.10"
  }
 },
 "nbformat": 4,
 "nbformat_minor": 5
}
