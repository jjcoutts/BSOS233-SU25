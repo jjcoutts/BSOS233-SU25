{
 "cells": [
  {
   "cell_type": "code",
   "execution_count": 9,
   "id": "fa66fc4e-f2e0-47c6-889e-89ff1afa1a51",
   "metadata": {},
   "outputs": [
    {
     "data": {
      "text/plain": [
       "0.5"
      ]
     },
     "execution_count": 9,
     "metadata": {},
     "output_type": "execute_result"
    }
   ],
   "source": [
    "# BSOS233 Lecture on Functions\n",
    "# Jupyter Notebook created by Jacob J. Coutts\n",
    "\n",
    "# load required packages\n",
    "import datascience as ds\n",
    "import numpy as np\n",
    "\n",
    "# create a function to divide y by x\n",
    "def divided(x,y):\n",
    "    \"\"\"\n",
    "    divides argument 1 by argument 2 \n",
    "    no libraries required\n",
    "    no default arguments\n",
    "    \"\"\"\n",
    "    ex = x/y\n",
    "    return ex\n",
    "# test function\n",
    "divided(y = 3, x = 1.5)"
   ]
  },
  {
   "cell_type": "code",
   "execution_count": 11,
   "id": "fb09568e-dd8a-46c2-a6c7-639d7da3ebe0",
   "metadata": {},
   "outputs": [
    {
     "name": "stdout",
     "output_type": "stream",
     "text": [
      "4\n"
     ]
    },
    {
     "ename": "TypeError",
     "evalue": "unsupported operand type(s) for *: 'NoneType' and 'int'",
     "output_type": "error",
     "traceback": [
      "\u001b[0;31m---------------------------------------------------------------------------\u001b[0m",
      "\u001b[0;31mTypeError\u001b[0m                                 Traceback (most recent call last)",
      "Cell \u001b[0;32mIn[11], line 5\u001b[0m\n\u001b[1;32m      2\u001b[0m \u001b[38;5;250m    \u001b[39m\u001b[38;5;124;03m\"\"\"doubles x\"\"\"\u001b[39;00m\n\u001b[1;32m      3\u001b[0m     \u001b[38;5;28mprint\u001b[39m(\u001b[38;5;241m2\u001b[39m\u001b[38;5;241m*\u001b[39mx)\n\u001b[0;32m----> 5\u001b[0m \u001b[43mdouble\u001b[49m\u001b[43m(\u001b[49m\u001b[38;5;241;43m2\u001b[39;49m\u001b[43m)\u001b[49m\u001b[38;5;241;43m*\u001b[39;49m\u001b[38;5;241;43m2\u001b[39;49m\n",
      "\u001b[0;31mTypeError\u001b[0m: unsupported operand type(s) for *: 'NoneType' and 'int'"
     ]
    }
   ],
   "source": [
    "def double(x): \n",
    "    \"\"\"doubles x\"\"\"\n",
    "    print(2*x)\n",
    "    \n",
    "double(2)*2"
   ]
  },
  {
   "cell_type": "code",
   "execution_count": 8,
   "id": "e19f1308-428e-42bd-ba50-0051ddb263cc",
   "metadata": {},
   "outputs": [
    {
     "name": "stdout",
     "output_type": "stream",
     "text": [
      "You entered 2 x must be numeric. Try again.\n"
     ]
    }
   ],
   "source": [
    "# using conditionals to validate functions\n",
    "# a better version of double that checks for errors\n",
    "def double(x):\n",
    "    \"\"\" doubles x\"\"\"\n",
    "    if type(x) == [int,float] :\n",
    "      return 2*x\n",
    "    elif type(x) != int or type(x) != float:\n",
    "      return print(\"You entered\", x, \"x must be numeric. Try again.\")\n",
    "\n",
    "double(2)"
   ]
  },
  {
   "cell_type": "code",
   "execution_count": 7,
   "id": "61269f22-5b65-498b-91a1-3cd38242cdb8",
   "metadata": {},
   "outputs": [
    {
     "data": {
      "text/plain": [
       "'Error: Input must be a numpy array.'"
      ]
     },
     "execution_count": 7,
     "metadata": {},
     "output_type": "execute_result"
    }
   ],
   "source": [
    "# a harder function\n",
    "def trimmedmean(x):\n",
    "    \"\"\"\n",
    "    calculates the trimmed mean of an array by eliminating highest and lowest value\n",
    "    Default arguments: None\n",
    "    Required libraries: import numpy as np\n",
    "    \"\"\"\n",
    "    if type(x) == np.ndarray:\n",
    "        trimmedx = np.mean(np.sort(x)[1:len(x)-1]) \n",
    "        return trimmedx\n",
    "    else: \n",
    "        return \"Error: Input must be a numpy array.\"\n",
    "    \n",
    "trimmedmean([1,2,3])"
   ]
  },
  {
   "cell_type": "code",
   "execution_count": 6,
   "id": "0cbcb596-9072-4526-a84a-b34ab6a62d54",
   "metadata": {},
   "outputs": [
    {
     "data": {
      "text/plain": [
       "array([  2.32000000e+00,   1.16171171e+12,   2.50000000e+00])"
      ]
     },
     "execution_count": 6,
     "metadata": {},
     "output_type": "execute_result"
    }
   ],
   "source": [
    "# functions with multiple arguments and one default\n",
    "def halfround(x, ndigits=2):\n",
    "    \"\"\"\n",
    "    cuts any number in half and rounds to specified precision\n",
    "    Default arguments: Rounds to 2 decimal places by default\n",
    "    Requi\n",
    "    \"\"\"\n",
    "    return np.round(x/2,ndigits)\n",
    "\n",
    "halfround(ds.make_array(4.644, 2323423423443.2113, 5))"
   ]
  },
  {
   "cell_type": "code",
   "execution_count": 4,
   "id": "30cc5687-cdcf-48d0-9013-0565d96f8398",
   "metadata": {},
   "outputs": [
    {
     "data": {
      "text/html": [
       "<table border=\"1\" class=\"dataframe\">\n",
       "    <thead>\n",
       "        <tr>\n",
       "            <th>Pretest</th> <th>Posttest</th>\n",
       "        </tr>\n",
       "    </thead>\n",
       "    <tbody>\n",
       "        <tr>\n",
       "            <td>0      </td> <td>90      </td>\n",
       "        </tr>\n",
       "        <tr>\n",
       "            <td>0      </td> <td>91      </td>\n",
       "        </tr>\n",
       "        <tr>\n",
       "            <td>0      </td> <td>92      </td>\n",
       "        </tr>\n",
       "        <tr>\n",
       "            <td>0      </td> <td>93      </td>\n",
       "        </tr>\n",
       "        <tr>\n",
       "            <td>0      </td> <td>94      </td>\n",
       "        </tr>\n",
       "        <tr>\n",
       "            <td>0      </td> <td>95      </td>\n",
       "        </tr>\n",
       "        <tr>\n",
       "            <td>0      </td> <td>96      </td>\n",
       "        </tr>\n",
       "        <tr>\n",
       "            <td>0      </td> <td>97      </td>\n",
       "        </tr>\n",
       "        <tr>\n",
       "            <td>0      </td> <td>98      </td>\n",
       "        </tr>\n",
       "        <tr>\n",
       "            <td>0      </td> <td>99      </td>\n",
       "        </tr>\n",
       "    </tbody>\n",
       "</table>\n",
       "<p>... (10 rows omitted)</p>"
      ],
      "text/plain": [
       "Pretest | Posttest\n",
       "0       | 90\n",
       "0       | 91\n",
       "0       | 92\n",
       "0       | 93\n",
       "0       | 94\n",
       "0       | 95\n",
       "0       | 96\n",
       "0       | 97\n",
       "0       | 98\n",
       "0       | 99\n",
       "... (10 rows omitted)"
      ]
     },
     "execution_count": 4,
     "metadata": {},
     "output_type": "execute_result"
    }
   ],
   "source": [
    "# in-class exercise possible solution 1\n",
    "import datascience as ds\n",
    "import numpy as np\n",
    "\n",
    "percent = ds.Table().with_columns(\"Pretest\",np.arange(-10,10),\"Posttest\", np.arange(90,110))\n",
    "percent\n",
    "def correct_values(x):\n",
    "    \"\"\" \n",
    "    Limits values between zero and 100 \n",
    "    Default arguments: none\n",
    "    Required libraries: none\n",
    "    \"\"\"    \n",
    "    newx = max(x,0)\n",
    "    finalx = min(newx,100)\n",
    "    return(finalx)\n",
    "\n",
    "new_percent = ds.Table().with_columns(\"Pretest\",percent.apply(correct_values, \"Pretest\"),\"Posttest\",percent.apply(correct_values, \"Posttest\"))\n",
    "#new_percent\n",
    "new_percent\n",
    "#check1 = ds.Table().with_columns(\"Pretest\",np.arange(-10000000,1000000))\n",
    "#check1.apply(correct_values,\"Pretest\")"
   ]
  },
  {
   "cell_type": "code",
   "execution_count": 3,
   "id": "d5c6b67f-3d5f-4c62-986c-17dcbf5ee28c",
   "metadata": {},
   "outputs": [
    {
     "data": {
      "text/html": [
       "<table border=\"1\" class=\"dataframe\">\n",
       "    <thead>\n",
       "        <tr>\n",
       "            <th>Pretest</th> <th>Posttest</th>\n",
       "        </tr>\n",
       "    </thead>\n",
       "    <tbody>\n",
       "        <tr>\n",
       "            <td>0      </td> <td>90      </td>\n",
       "        </tr>\n",
       "        <tr>\n",
       "            <td>0      </td> <td>91      </td>\n",
       "        </tr>\n",
       "        <tr>\n",
       "            <td>0      </td> <td>92      </td>\n",
       "        </tr>\n",
       "        <tr>\n",
       "            <td>0      </td> <td>93      </td>\n",
       "        </tr>\n",
       "        <tr>\n",
       "            <td>0      </td> <td>94      </td>\n",
       "        </tr>\n",
       "        <tr>\n",
       "            <td>0      </td> <td>95      </td>\n",
       "        </tr>\n",
       "        <tr>\n",
       "            <td>0      </td> <td>96      </td>\n",
       "        </tr>\n",
       "        <tr>\n",
       "            <td>0      </td> <td>97      </td>\n",
       "        </tr>\n",
       "        <tr>\n",
       "            <td>0      </td> <td>98      </td>\n",
       "        </tr>\n",
       "        <tr>\n",
       "            <td>0      </td> <td>99      </td>\n",
       "        </tr>\n",
       "    </tbody>\n",
       "</table>\n",
       "<p>... (10 rows omitted)</p>"
      ],
      "text/plain": [
       "Pretest | Posttest\n",
       "0       | 90\n",
       "0       | 91\n",
       "0       | 92\n",
       "0       | 93\n",
       "0       | 94\n",
       "0       | 95\n",
       "0       | 96\n",
       "0       | 97\n",
       "0       | 98\n",
       "0       | 99\n",
       "... (10 rows omitted)"
      ]
     },
     "execution_count": 3,
     "metadata": {},
     "output_type": "execute_result"
    }
   ],
   "source": [
    "# in-class exercise possible solution 2\n",
    "\n",
    "percent = ds.Table().with_columns('Pretest', np.arange(-10,10), 'Posttest', np.arange(90,110))\n",
    "\n",
    "def correct_values2(x):\n",
    "    \"\"\" \n",
    "    Limits values between zero and 100 \n",
    "    Default arguments: None\n",
    "    Required libraries: None\n",
    "    \"\"\"\n",
    "    if x < 0:\n",
    "        x = 0\n",
    "    elif x > 100:\n",
    "        x = 100\n",
    "    return x\n",
    "\n",
    "new_percent = ds.Table().with_columns(\"Pretest\",percent.apply(correct_values2, \"Pretest\"),\"Posttest\",percent.apply(correct_values2, \"Posttest\"))\n",
    "new_percent\n",
    "\n",
    "#check2 = Table().with_columns(\"Pretest\",np.arange(-10000000,1000000))\n",
    "#check2.apply(correct_values2,\"Pretest\")"
   ]
  },
  {
   "cell_type": "code",
   "execution_count": 2,
   "id": "9c30cba7-40d5-4eec-a9bb-754ec4e88865",
   "metadata": {},
   "outputs": [
    {
     "name": "stdout",
     "output_type": "stream",
     "text": [
      "You entered 100 pounds, which is 45.3592 kilograms.\n"
     ]
    }
   ],
   "source": [
    "def weight_conversion (weight, basemetric = \"kilograms\"):\n",
    "    \"\"\"\n",
    "    Converts weights from pounds to kilograms or vice versa\n",
    "    Required libraries: None\n",
    "    Default arguments: Weight assumed to be in kilograms\n",
    "    \"\"\"\n",
    "    if basemetric == \"pounds\":\n",
    "        return print(\"You entered\", weight, \"pounds, which is\", weight*0.453592, \"kilograms.\")\n",
    "\n",
    "    elif basemetric == \"kilograms\":\n",
    "        return print(\"You entered\", weight, \"kilograms, which is\", weight*2.20462, \"pounds.\")\n",
    "    else:\n",
    "        return print(\"Basemetric must be 'pounds' or 'kilograms'\")\n",
    "\n",
    "x = 100\n",
    "weight_conversion(basemetric = \"pounds\",weight = 100)"
   ]
  },
  {
   "cell_type": "code",
   "execution_count": null,
   "id": "f2e52453-3c09-4db3-b985-ad072e785686",
   "metadata": {},
   "outputs": [],
   "source": []
  }
 ],
 "metadata": {
  "kernelspec": {
   "display_name": "Python 3 (ipykernel)",
   "language": "python",
   "name": "python3"
  },
  "language_info": {
   "codemirror_mode": {
    "name": "ipython",
    "version": 3
   },
   "file_extension": ".py",
   "mimetype": "text/x-python",
   "name": "python",
   "nbconvert_exporter": "python",
   "pygments_lexer": "ipython3",
   "version": "3.8.10"
  }
 },
 "nbformat": 4,
 "nbformat_minor": 5
}
