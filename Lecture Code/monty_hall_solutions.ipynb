{
 "cells": [
  {
   "cell_type": "markdown",
   "id": "4480d29c-cb55-487d-b65a-515df35ae144",
   "metadata": {},
   "source": [
    "Below are two answers to the Monty Hall Problem. One does the looping inside the function while the other iterates a function that plays a single game many times. Both functions produce identical results, which show that the probability of winning is tied to whether you switch. You win twice as often when you switch because if you pick the right door and stay you win (1/3 chance), but if you pick the wrong door (2/3 chance) and switch, you win. This is a probability puzzle that confuses many people who hear it!"
   ]
  },
  {
   "cell_type": "code",
   "execution_count": 1,
   "id": "27c8c3a7-e27c-4509-9122-3c33812d2e93",
   "metadata": {},
   "outputs": [],
   "source": [
    "# load required packages\n",
    "import numpy as np\n",
    "import datascience as ds"
   ]
  },
  {
   "cell_type": "code",
   "execution_count": 2,
   "id": "d0c34192-930b-4574-8416-7a94a5420e20",
   "metadata": {},
   "outputs": [
    {
     "data": {
      "text/plain": [
       "0.3324"
      ]
     },
     "execution_count": 2,
     "metadata": {},
     "output_type": "execute_result"
    }
   ],
   "source": [
    "# this one does the looping inside the function\n",
    "def monty_hall(door_choice, switch, games_played=10000):\n",
    "    \"\"\"\n",
    "    Simulates the Monty Hall problem. \n",
    "    Default arguments: 10,000 games will be played unless otherwise specified\n",
    "    Required libraries: numpy imported as np\n",
    "    \"\"\"\n",
    "    # create doors \n",
    "    doors = ds.make_array(1,2,3)\n",
    "    # set wins to 0. we will increment this each time we win\n",
    "    win = 0 \n",
    "    \n",
    "    # play the game determine wins/losses. start with a loop\n",
    "    for i in np.arange(games_played): \n",
    "        car = np.random.choice(doors) # this randomly chooses what the winning door is in each game. There will be games_played different winning doors\n",
    "        if door_choice == car and switch == \"No\": # this is one way to win where you pick the right door originally and don't switch\n",
    "            win = win + 1 # if true, add one to wins\n",
    "        elif door_choice != car and switch == \"Yes\": # this is the other way to win where you pick the wrong door originally and do switch\n",
    "            win = win + 1 # if true, add one to wins\n",
    "        else:\n",
    "            win = win # otherwise, add 0 to wins (because we lost)\n",
    "    # count your wins\n",
    "    return win/games_played # return the proportion of games won\n",
    "\n",
    "# play around with these and see that winning is based on switching and not door choice\n",
    "#monty_hall(2, switch = \"No\")\n",
    "monty_hall(1, switch = \"No\")"
   ]
  },
  {
   "cell_type": "code",
   "execution_count": 3,
   "id": "b415fbef-6f9d-43be-becd-2a454c44e541",
   "metadata": {},
   "outputs": [
    {
     "data": {
      "text/plain": [
       "0.33460000000000001"
      ]
     },
     "execution_count": 3,
     "metadata": {},
     "output_type": "execute_result"
    }
   ],
   "source": [
    "# take two\n",
    "import numpy as np\n",
    "import datascience as ds\n",
    "\n",
    "# the other way where the function plays one game and we append it at the end\n",
    "def monty_hall2(door_choice, switch):\n",
    "    # create doors \n",
    "    doors = ds.make_array(1,2,3)\n",
    "    # set wins to 0. we will change this to 1 each time we win\n",
    "    win = 0 \n",
    "    # choose winning door\n",
    "    car = np.random.choice(doors)\n",
    "    \n",
    "    # conditional statements to determine wins\n",
    "    if door_choice == car and switch == \"No\": # this is one way to win where you pick the right door originally and don't switch\n",
    "        win = 1\n",
    "    elif door_choice != car and switch == \"Yes\": # this is the other way to win where you pick the wrong door originally and do switch\n",
    "        win = 1\n",
    "    else:\n",
    "        win = 0\n",
    "    \n",
    "    return win # return either 1 or 0 depending on whether you won\n",
    "    \n",
    "monty_hall2(1,\"No\")\n",
    "\n",
    "game_res = ds.make_array() # create empty array to store results\n",
    "for i in np.arange(10000): # loop through this 10000 times\n",
    "    game_res = np.append(game_res,monty_hall2(1,\"No\")) # create a vector of 10000 1s and 0s depending on wins and losses. Change to yes or no.\n",
    "sum(game_res)/10000 # creates proportion of wins"
   ]
  }
 ],
 "metadata": {
  "kernelspec": {
   "display_name": "Python 3 (ipykernel)",
   "language": "python",
   "name": "python3"
  },
  "language_info": {
   "codemirror_mode": {
    "name": "ipython",
    "version": 3
   },
   "file_extension": ".py",
   "mimetype": "text/x-python",
   "name": "python",
   "nbconvert_exporter": "python",
   "pygments_lexer": "ipython3",
   "version": "3.8.10"
  }
 },
 "nbformat": 4,
 "nbformat_minor": 5
}
