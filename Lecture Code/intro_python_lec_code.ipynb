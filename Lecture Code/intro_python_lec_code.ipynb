{
 "cells": [
  {
   "cell_type": "markdown",
   "id": "cdb63572-72f6-446c-ac11-e367909e66a1",
   "metadata": {},
   "source": [
    "# Lecture 1: Python Basics\n",
    "\n",
    "This Jupyter Notebook steps through key concepts in Python, including object assignment, data types, and simple data structures. \n",
    "\n",
    "**Note:** Python is case sensitive. This means that if you use a command or create an object and refer to it later, you must use the same capitalization. "
   ]
  },
  {
   "cell_type": "markdown",
   "id": "91d1f2f7-fa3f-4779-a059-0bc25535d932",
   "metadata": {},
   "source": [
    "## Creating Objects\n",
    "\n",
    "We can assign information to **objects** in Python. Objects are ways for us to manipulate different pieces of information through a script. A few notes about object names: \n",
    "* They cannot start with a number.\n",
    "* They must have unique names.\n",
    "* They should be short and informative.\n",
    "* They cannot contain spaces (use camelCasing, underscores, or periods instead). \n",
    "\n",
    "You can print the contents of an object using the print() command. "
   ]
  },
  {
   "cell_type": "code",
   "execution_count": 1,
   "id": "1fea71d4-f9de-435f-b3f9-1ca3f669aac6",
   "metadata": {},
   "outputs": [],
   "source": [
    "# create an object with a whole number/integer in it. Print that object. \n",
    "\n",
    "# create an object with a fractional number in it. Print that object. \n",
    "\n",
    "# create an object with a letter in it. Print that object. \n",
    "\n",
    "# create an object with the word True in it (spelled exactly like that). Print that object. \n"
   ]
  },
  {
   "cell_type": "markdown",
   "id": "dd2d4303-a017-47b7-90e5-e369bf6b3dc7",
   "metadata": {},
   "source": [
    "## Expanding Python\n",
    "\n",
    "You can greatly expand the capabilities of Python by loading modules created by other people. These modules contain new functions and objects, each with their own methods and attributes. Import numpy as np and import all functions from the datascience module. (Hint: Use the labs for a reference on this.)"
   ]
  },
  {
   "cell_type": "code",
   "execution_count": null,
   "id": "89eba3d5-d85e-47dd-a968-30dcf5b2a32e",
   "metadata": {},
   "outputs": [],
   "source": []
  },
  {
   "cell_type": "markdown",
   "id": "5e981aef-6713-45d8-99b4-6aa9390ba83a",
   "metadata": {},
   "source": [
    "## Data Types\n",
    "\n",
    "The data stored in objects have different **types**, and you can only perform certain operations on certain types. There are quite a few data types in Python. The ones we'll work with the most this semester include: \n",
    "* Float data, which are fractional numbers. \n",
    "* Int data, which are integers/whole numbers. \n",
    "* Str data, which are characters. These must be contained in quotes. \n",
    "* Bool data, which are True/False. These are related to conditional statements, which will become important to us later in the semester. \n",
    "\n",
    "Explore the code below. "
   ]
  },
  {
   "cell_type": "code",
   "execution_count": 2,
   "id": "9cb4335d-b1b7-4ced-b9fa-0f151eac95e2",
   "metadata": {},
   "outputs": [
    {
     "name": "stdout",
     "output_type": "stream",
     "text": [
      "<class 'float'>\n",
      "<class 'int'>\n",
      "<class 'str'>\n",
      "<class 'bool'>\n"
     ]
    }
   ],
   "source": [
    "# float \n",
    "x = 4.5\n",
    "print(type(x))\n",
    "\n",
    "# int \n",
    "y = 2\n",
    "print(type(y))\n",
    "\n",
    "# str \n",
    "z = \"s\"\n",
    "print(type(z))\n",
    "\n",
    "# bool \n",
    "a = True\n",
    "print(type(a))\n",
    "\n",
    "# print the types of your objects you created above\n"
   ]
  },
  {
   "cell_type": "markdown",
   "id": "e3cb2eea-2170-4a76-a766-01f1e0f437a9",
   "metadata": {},
   "source": [
    "## Data Structures\n",
    "\n",
    "Objects also can have different forms, called structures. Different structures can be operated on, have contents replaced, and more. Some of the main data structures in Python include: \n",
    "* Sets\n",
    "* Arrays\n",
    "* Lists\n",
    "* Tables\n",
    "\n",
    "There are others that exist, such as dictionaries, tuples, and data frames, but we won't interact with these too much."
   ]
  },
  {
   "cell_type": "code",
   "execution_count": null,
   "id": "3d37982c-1972-4c24-ae5f-2dd782a0aa13",
   "metadata": {},
   "outputs": [],
   "source": [
    "# sets\n",
    "s1 = {1,2,3,4,5}\n",
    "print(type(s1))\n",
    "# try multiplying the set by different values and see what happens\n",
    "# also try exploring the set in other ways\n",
    "\n",
    "# make_array\n",
    "ar = make_array(1,2,3,4,5)\n",
    "print(type(ar))\n",
    "# try multiplying the array by different values and see what happens\n",
    "# also try exploring the set in other ways\n",
    "\n",
    "# make list \n",
    "l1 = [1,2,3,4,5]\n",
    "# try multiplying the list by different values and see what happens\n",
    "# also try exploring the set in other ways\n",
    "\n",
    "# make table\n",
    "# what do you need to load in first?? \n",
    "\n",
    "tbl = ds.Table()\n",
    "tbl = tbl.with_columns(\"c1\", ds.make_array(1,2,3,4,5),\n",
    "                       \"c2\", ds.make_array(1,2,3,4,5))\n",
    "print(type(tbl))\n",
    "# try multiplying the Table or columsn from it by different values and see what happens\n",
    "# also try exploring the set in other ways"
   ]
  },
  {
   "cell_type": "markdown",
   "id": "30ccd66b-f5d2-4356-86a5-f24daa562356",
   "metadata": {},
   "source": [
    "## Other Tips and Tricks\n",
    "\n",
    "1.) You can leave comments in Python using #s. Nothing following a # will be interpreted if it is in the same line.\n",
    "\n",
    "2.) You can stitch together multiple commands in the same line using ;s. Although you shouldn't do this all the time, it can make a file more readable.\n",
    "\n",
    "3.) You can use ?s before function names to pull up a help window. This will tell you--among other things--how many arguments are within a function and any default values they have. "
   ]
  },
  {
   "cell_type": "code",
   "execution_count": null,
   "id": "f9d6c537-e9fd-4455-86c2-ea71e96f8beb",
   "metadata": {},
   "outputs": [],
   "source": [
    "# comments like this won't be interpreted\n",
    "nums = {250, 125, 0}; # print(aa) this won't print because it's commented out\n",
    "\n",
    "# stitching multiple commands on one line\n",
    "digits = make_array(2.5, 13, 25); digits = digits*2; print(digits)\n",
    "\n",
    "# let's explore functions\n",
    "?make_array\n",
    "\n",
    "# load a new module so we can use sqrt \n",
    "import math as m\n",
    "?m.sqrt # explore what the square root function does\n",
    "sq = m.sqrt(4); sq * 2 # take square root of four and multiply by two"
   ]
  },
  {
   "cell_type": "code",
   "execution_count": null,
   "id": "8e0cd869-b811-42aa-9fc5-e9285845fe1b",
   "metadata": {},
   "outputs": [],
   "source": [
    "m.acosh"
   ]
  },
  {
   "cell_type": "code",
   "execution_count": null,
   "id": "292b2cf9-fcbd-4e43-a1b5-75d7802659d6",
   "metadata": {},
   "outputs": [],
   "source": [
    "ds.Table.read_table(\"movie_mod.csv\")"
   ]
  },
  {
   "cell_type": "markdown",
   "id": "e304fd93-4d7a-481f-bf35-7db2d76e03a2",
   "metadata": {},
   "source": [
    "## Practice Exercise\n",
    "\n",
    "Below, there is code that is bugged. Fixed the broken code in each section and get it to run. "
   ]
  },
  {
   "cell_type": "code",
   "execution_count": null,
   "id": "daa04fd6-b008-4eca-8351-f3215acfe81d",
   "metadata": {},
   "outputs": [],
   "source": [
    "# Exercise 1\n",
    "x = 1 print(x)\n",
    "\n",
    "# Exercise 2\n",
    "o = 1 \n",
    "print(O)\n",
    "\n",
    "# Exercise 3\n",
    "op = Y\n",
    "\n",
    "# Exercise 4\n",
    "ax = makeArray((1,2,34)\n",
    "              \n",
    "# Exercise 5\n",
    "ax ++ 4"
   ]
  },
  {
   "cell_type": "markdown",
   "id": "e0af291e-6558-4ae8-a322-48870e67403c",
   "metadata": {},
   "source": [
    "### End of script\n",
    "\n",
    "Happy coding! Please let the instructional team know if you have any questions. "
   ]
  }
 ],
 "metadata": {
  "kernelspec": {
   "display_name": "Python 3 (ipykernel)",
   "language": "python",
   "name": "python3"
  },
  "language_info": {
   "codemirror_mode": {
    "name": "ipython",
    "version": 3
   },
   "file_extension": ".py",
   "mimetype": "text/x-python",
   "name": "python",
   "nbconvert_exporter": "python",
   "pygments_lexer": "ipython3",
   "version": "3.8.10"
  }
 },
 "nbformat": 4,
 "nbformat_minor": 5
}
