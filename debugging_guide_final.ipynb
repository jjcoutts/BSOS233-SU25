{
 "cells": [
  {
   "cell_type": "markdown",
   "id": "e8489051-4e79-4801-b196-1b3e8e78d0b8",
   "metadata": {
    "tags": []
   },
   "source": [
    "# Python Debugging Guide\n",
    "**Authors: Orla Collins and Jacob Coutts**\n",
    "\n",
    "You will inevitably come across errors in your code that you'll have to figure out how to fix. No need to panic - most errors are somewhat self-explanatory or solveable with a quick Google search. An error will always have a name that will give you some sense of what's wrong. Read the name and either see if it makes sense to you or search it in Python documentation (https://docs.python.org/3/library/exceptions.html) to determine what it might mean. Below we will go through some common errors that you might have in your code and what potentially could fix it. Keep in mind that this isn't all encompasssing and you will have to tweak your solution based on your specific code."
   ]
  },
  {
   "cell_type": "code",
   "execution_count": 2,
   "id": "ccfa75fa-a48e-4db3-bfed-b0e75633f3e5",
   "metadata": {},
   "outputs": [],
   "source": [
    "# import a module\n",
    "import datascience as ds"
   ]
  },
  {
   "cell_type": "code",
   "execution_count": 3,
   "id": "dd54a45c-0a44-432a-bac3-69ab7939f41f",
   "metadata": {},
   "outputs": [
    {
     "ename": "NameError",
     "evalue": "name 'Table' is not defined",
     "output_type": "error",
     "traceback": [
      "\u001b[0;31m---------------------------------------------------------------------------\u001b[0m",
      "\u001b[0;31mNameError\u001b[0m                                 Traceback (most recent call last)",
      "Cell \u001b[0;32mIn[3], line 2\u001b[0m\n\u001b[1;32m      1\u001b[0m \u001b[38;5;66;03m# load in the imdb dataset into an object called imdb\u001b[39;00m\n\u001b[0;32m----> 2\u001b[0m imdb \u001b[38;5;241m=\u001b[39m \u001b[43mTable\u001b[49m\u001b[38;5;241m.\u001b[39mread_table(\u001b[38;5;124m'\u001b[39m\u001b[38;5;124mimdb.csv\u001b[39m\u001b[38;5;124m'\u001b[39m)\n",
      "\u001b[0;31mNameError\u001b[0m: name 'Table' is not defined"
     ]
    }
   ],
   "source": [
    "# load in the imdb dataset into an object called imdb\n",
    "imdb = Table.read_table('imdb.csv')"
   ]
  },
  {
   "cell_type": "markdown",
   "id": "e67a17f7-e4cd-428a-ae62-374e08ece79a",
   "metadata": {},
   "source": [
    "## Import Error\n",
    "\n",
    "You can take several approaches to importing modules into Python. import **module name** is the simplest approach, but it requires you to refer to the module in full when referencing content from that module (e.g., numpy.mean() when using the mean() function from numpy). from **module name** import * takes the opposite appraoch where you don't need to reference the module at all (e.g., if you loaded numpy from numpy import * you just need to call mean()). Although this sounds nice on the surface, this is not transparent: anyone viewing your code (and eventually you) will forget which functions belong to which modules, leading to future errors. Additionally, if there are multiple packages with the same function name and you import them as * it won't know which function you're referring to. The best way is to import the module as shorthand (e.g., import numpy as np, so np.mean())."
   ]
  },
  {
   "cell_type": "code",
   "execution_count": null,
   "id": "ba08c6eb-0e0c-4e05-a474-d2fe0ff912cd",
   "metadata": {},
   "outputs": [],
   "source": [
    "imdb = ds.Table.read_table(\"imdb.csv\")"
   ]
  },
  {
   "cell_type": "markdown",
   "id": "cd430d3d-6132-49c0-b89a-f2772978a8e9",
   "metadata": {},
   "source": [
    "## SyntaxError\n",
    "\n",
    "Something in the syntax of your code is incorrect. You know how English has a syntax that forms well-structured sentences through correct ordering of words, phrases, and punctuation? Python has its own syntax to properly write code."
   ]
  },
  {
   "cell_type": "markdown",
   "id": "61c65a9a-4a20-41a7-b4e0-8781ca35efc0",
   "metadata": {},
   "source": [
    "### \"SyntaxError: EOL while scanning string literal\" (A missing quotation mark for a string)\n",
    "*EOL while scanning string literal*: EOL stands for end of line. You haven't closed out this line of code so Python doesn't think it's complete."
   ]
  },
  {
   "cell_type": "code",
   "execution_count": 4,
   "id": "a3a5b06f-a412-43cf-8e18-2f509db70143",
   "metadata": {},
   "outputs": [
    {
     "ename": "SyntaxError",
     "evalue": "EOL while scanning string literal (3595539943.py, line 2)",
     "output_type": "error",
     "traceback": [
      "\u001b[0;36m  Cell \u001b[0;32mIn[4], line 2\u001b[0;36m\u001b[0m\n\u001b[0;31m    print(\"Hello BSOS233 students!)\u001b[0m\n\u001b[0m                                   ^\u001b[0m\n\u001b[0;31mSyntaxError\u001b[0m\u001b[0;31m:\u001b[0m EOL while scanning string literal\n"
     ]
    }
   ],
   "source": [
    "# SyntaxError Example\n",
    "print(\"Hello BSOS233 students!)"
   ]
  },
  {
   "cell_type": "markdown",
   "id": "3cb7849f-8bcd-4868-b9bf-f496d0e20710",
   "metadata": {},
   "source": [
    "Python helpfully tells us that are issue is in line 2 of the code chunk at the end of the line. If you look closely you should be able to notice we're missing a quotation mark to close out the string we're trying to print."
   ]
  },
  {
   "cell_type": "markdown",
   "id": "30562718-448e-4f62-920f-cdec2a9b075c",
   "metadata": {},
   "source": [
    "### \"SyntaxError: invalid syntax\" (Misspelling keywords)"
   ]
  },
  {
   "cell_type": "code",
   "execution_count": 5,
   "id": "3fd960fe-a3d6-4d75-ad29-51a455b0c8e9",
   "metadata": {},
   "outputs": [
    {
     "ename": "SyntaxError",
     "evalue": "invalid syntax (2933743221.py, line 3)",
     "output_type": "error",
     "traceback": [
      "\u001b[0;36m  Cell \u001b[0;32mIn[5], line 3\u001b[0;36m\u001b[0m\n\u001b[0;31m    If x > 10:\u001b[0m\n\u001b[0m       ^\u001b[0m\n\u001b[0;31mSyntaxError\u001b[0m\u001b[0;31m:\u001b[0m invalid syntax\n"
     ]
    }
   ],
   "source": [
    "# SyntaxError Example\n",
    "x = 20\n",
    "If x > 10:\n",
    "    print(\"big num\")"
   ]
  },
  {
   "cell_type": "markdown",
   "id": "e7348bc5-7c2f-42b9-96af-b5e76044fb4e",
   "metadata": {},
   "source": [
    "I was trying to do a conditional statement but I capitalized the keyword *if*, so Python is telling me I have *invalid syntax* in line 3. Remember, Python is case sensitive so it won't recognize keywords unless they are written in the correct case. In the eyes of Python, if != If (!= means does not equal)."
   ]
  },
  {
   "cell_type": "markdown",
   "id": "3cc5e066-550d-4e26-80f8-645e91b7ed2d",
   "metadata": {},
   "source": [
    "### \"SyntaxError: unexpected EOF while parsing\" (Missing parentheses, brackets, or braces)"
   ]
  },
  {
   "cell_type": "code",
   "execution_count": 6,
   "id": "28ae7d05-d0f6-4987-b716-845f349372e7",
   "metadata": {},
   "outputs": [
    {
     "ename": "SyntaxError",
     "evalue": "unexpected EOF while parsing (1424252964.py, line 3)",
     "output_type": "error",
     "traceback": [
      "\u001b[0;36m  Cell \u001b[0;32mIn[6], line 3\u001b[0;36m\u001b[0m\n\u001b[0;31m    2: \"Francis\"\u001b[0m\n\u001b[0m                ^\u001b[0m\n\u001b[0;31mSyntaxError\u001b[0m\u001b[0;31m:\u001b[0m unexpected EOF while parsing\n"
     ]
    }
   ],
   "source": [
    "# SyntaxError Example\n",
    "my_dictionary = {1: \"Orla\",\n",
    "                 2: \"Francis\""
   ]
  },
  {
   "cell_type": "markdown",
   "id": "89462c69-c9d7-40a0-931a-72794e77217e",
   "metadata": {},
   "source": [
    "*unexpected EOF while parsing*: EOF stands for end of file. This tells us that we're missing some sort of closing of our code. If we look closely at the error generated, we can see that at the end of line 3 we're missing a curly brace to close out our bracket assignment."
   ]
  },
  {
   "cell_type": "markdown",
   "id": "33625670-1188-4f74-899a-623e9d2938e4",
   "metadata": {},
   "source": [
    "## IndentationError\n",
    "\n",
    "As the name says, something's wrong with your indentation. Python code doesn't work unless you indent according to its standards."
   ]
  },
  {
   "cell_type": "markdown",
   "id": "78afdee5-2f0e-48c3-8998-cbf31878b540",
   "metadata": {},
   "source": [
    "### \"IndentationError: expected an indented block\" (Not correctly nesting if-statements, functions, loops)"
   ]
  },
  {
   "cell_type": "code",
   "execution_count": 2,
   "id": "ef92efde-6795-4139-9e23-29f761354b64",
   "metadata": {},
   "outputs": [
    {
     "ename": "IndentationError",
     "evalue": "expected an indented block (2088402797.py, line 4)",
     "output_type": "error",
     "traceback": [
      "\u001b[0;36m  Cell \u001b[0;32mIn[2], line 4\u001b[0;36m\u001b[0m\n\u001b[0;31m    print(\"positive\")\u001b[0m\n\u001b[0m    ^\u001b[0m\n\u001b[0;31mIndentationError\u001b[0m\u001b[0;31m:\u001b[0m expected an indented block\n"
     ]
    }
   ],
   "source": [
    "# IndentationError Example\n",
    "num = 5\n",
    "if num > 0:\n",
    "print(\"positive\")"
   ]
  },
  {
   "cell_type": "markdown",
   "id": "d498dc7d-83a2-4ee2-9373-5934cdba64d9",
   "metadata": {},
   "source": [
    "Python tells us that our issue is in line 4 and that it *expected an indented block*. After our if statement, it was expecting the next line to be indented to tell it what to do if that statement is true."
   ]
  },
  {
   "cell_type": "markdown",
   "id": "93e93780-6206-4f0a-bacc-69ec3a6f82d6",
   "metadata": {},
   "source": [
    "### \"IndentationError: unexpected indent\" (Not consistently indenting code within conditionals, functions, and loops)\n",
    "Similar to the error above except our indentation scheme deviates at some point. "
   ]
  },
  {
   "cell_type": "code",
   "execution_count": 4,
   "id": "1ba71c13-ed47-4fea-b933-bd3b23f56e56",
   "metadata": {},
   "outputs": [
    {
     "ename": "IndentationError",
     "evalue": "unexpected indent (1773944115.py, line 5)",
     "output_type": "error",
     "traceback": [
      "\u001b[0;36m  Cell \u001b[0;32mIn[4], line 5\u001b[0;36m\u001b[0m\n\u001b[0;31m    print(\"okay\")\u001b[0m\n\u001b[0m    ^\u001b[0m\n\u001b[0;31mIndentationError\u001b[0m\u001b[0;31m:\u001b[0m unexpected indent\n"
     ]
    }
   ],
   "source": [
    "# IndentationError Example\n",
    "num = 5\n",
    "if num > 0:\n",
    "    print(\"positive\")\n",
    "        print(\"okay\")"
   ]
  },
  {
   "cell_type": "markdown",
   "id": "ec1a0419-b064-470e-916c-9bfa5b04383c",
   "metadata": {},
   "source": [
    "## NameError\n",
    "Python does not recognize the name of an object you've called."
   ]
  },
  {
   "cell_type": "markdown",
   "id": "0280c79c-19a7-4bde-87ba-0290fb9e1bb1",
   "metadata": {},
   "source": [
    "### \"NameError: name 'varable' is not defined\" (Misspelling of variables)"
   ]
  },
  {
   "cell_type": "code",
   "execution_count": 3,
   "id": "add8e0ca-cefc-40be-b5fd-a57f796cf32e",
   "metadata": {},
   "outputs": [
    {
     "ename": "NameError",
     "evalue": "name 'varable' is not defined",
     "output_type": "error",
     "traceback": [
      "\u001b[0;31m---------------------------------------------------------------------------\u001b[0m",
      "\u001b[0;31mNameError\u001b[0m                                 Traceback (most recent call last)",
      "Cell \u001b[0;32mIn[3], line 3\u001b[0m\n\u001b[1;32m      1\u001b[0m \u001b[38;5;66;03m# NameError Example\u001b[39;00m\n\u001b[1;32m      2\u001b[0m variable \u001b[38;5;241m=\u001b[39m \u001b[38;5;124m\"\u001b[39m\u001b[38;5;124mvalue\u001b[39m\u001b[38;5;124m\"\u001b[39m\n\u001b[0;32m----> 3\u001b[0m \u001b[38;5;28mprint\u001b[39m(\u001b[43mvarable\u001b[49m)\n",
      "\u001b[0;31mNameError\u001b[0m: name 'varable' is not defined"
     ]
    }
   ],
   "source": [
    "# NameError Example\n",
    "variable = \"value\"\n",
    "print(varable)"
   ]
  },
  {
   "cell_type": "markdown",
   "id": "cf95bcff-5214-4103-9884-6996a0bb4bc9",
   "metadata": {},
   "source": [
    "Python tells us that name 'varable' in line 3 is not defined. We know that we defined the object variable but if we look closely we can see that we misspelled it while trying to print it."
   ]
  },
  {
   "cell_type": "markdown",
   "id": "9e632cec-aa8f-4df7-b328-2b52003a40c6",
   "metadata": {},
   "source": [
    "### \"NameError: name 'Variable' is not defined\" (Issues with capitalization)"
   ]
  },
  {
   "cell_type": "code",
   "execution_count": 11,
   "id": "2dd23353-ac12-4fa8-83dc-0fe26e0008a5",
   "metadata": {},
   "outputs": [
    {
     "ename": "NameError",
     "evalue": "name 'Variable' is not defined",
     "output_type": "error",
     "traceback": [
      "\u001b[0;31m---------------------------------------------------------------------------\u001b[0m",
      "\u001b[0;31mNameError\u001b[0m                                 Traceback (most recent call last)",
      "Cell \u001b[0;32mIn[11], line 3\u001b[0m\n\u001b[1;32m      1\u001b[0m \u001b[38;5;66;03m# NameError Example\u001b[39;00m\n\u001b[1;32m      2\u001b[0m variable \u001b[38;5;241m=\u001b[39m \u001b[38;5;124m\"\u001b[39m\u001b[38;5;124mvalue\u001b[39m\u001b[38;5;124m\"\u001b[39m\n\u001b[0;32m----> 3\u001b[0m \u001b[38;5;28mprint\u001b[39m(\u001b[43mVariable\u001b[49m)\n",
      "\u001b[0;31mNameError\u001b[0m: name 'Variable' is not defined"
     ]
    }
   ],
   "source": [
    "# NameError Example\n",
    "variable = \"value\"\n",
    "print(Variable)"
   ]
  },
  {
   "cell_type": "markdown",
   "id": "fe452dc2-9dba-4888-82ab-8876041e6d36",
   "metadata": {},
   "source": [
    "Our error message says that *name 'Variable' is not defined*. However, we know we defined that object. But if we look closely we can see in the print statement that we've capitalized the object name and Python is case sensitive, therefore treating this as a different object. This is why we recommend using snake case (ex: my_variable_is_cool) so that you know all of your object names are lowercase."
   ]
  },
  {
   "cell_type": "markdown",
   "id": "ad9860cf-45ea-4a4a-a9d8-1f59962e65a7",
   "metadata": {},
   "source": [
    "### \"NameError: name 'my_variable_rocks' is not defined\" (Variable hasn't been defined)"
   ]
  },
  {
   "cell_type": "code",
   "execution_count": 12,
   "id": "a7df66df-ec86-4111-bdb0-356cb80d7a69",
   "metadata": {},
   "outputs": [
    {
     "ename": "NameError",
     "evalue": "name 'my_variable_rocks' is not defined",
     "output_type": "error",
     "traceback": [
      "\u001b[0;31m---------------------------------------------------------------------------\u001b[0m",
      "\u001b[0;31mNameError\u001b[0m                                 Traceback (most recent call last)",
      "Cell \u001b[0;32mIn[12], line 2\u001b[0m\n\u001b[1;32m      1\u001b[0m \u001b[38;5;66;03m# NameError Example\u001b[39;00m\n\u001b[0;32m----> 2\u001b[0m \u001b[38;5;28mprint\u001b[39m(\u001b[43mmy_variable_rocks\u001b[49m)\n\u001b[1;32m      3\u001b[0m my_variable_rocks \u001b[38;5;241m=\u001b[39m \u001b[38;5;124m\"\u001b[39m\u001b[38;5;124mBSOS233\u001b[39m\u001b[38;5;124m\"\u001b[39m\n",
      "\u001b[0;31mNameError\u001b[0m: name 'my_variable_rocks' is not defined"
     ]
    }
   ],
   "source": [
    "# NameError Example\n",
    "print(my_variable_rocks)\n",
    "my_variable_rocks = \"BSOS233\""
   ]
  },
  {
   "cell_type": "markdown",
   "id": "6294dbd5-006c-4bac-902e-b6e2ddcaa8a6",
   "metadata": {},
   "source": [
    "Python says that *name 'my_variable_rocks' is not defined*. We've tried to use a variable before defining it. This is not allowed in Python. Python reads code top to bottom so we have to define a variable before using it."
   ]
  },
  {
   "cell_type": "markdown",
   "id": "9a5b0e0c-b7ce-43ec-a8c9-ba75fb59ce68",
   "metadata": {},
   "source": [
    "### \"NameError: name 'output' is not defined\" (Variable was created inside a function and now you're trying to use it outside)"
   ]
  },
  {
   "cell_type": "code",
   "execution_count": 14,
   "id": "07498fff-4d3e-4f1e-829e-b12b9c393b4d",
   "metadata": {},
   "outputs": [
    {
     "ename": "NameError",
     "evalue": "name 'output' is not defined",
     "output_type": "error",
     "traceback": [
      "\u001b[0;31m---------------------------------------------------------------------------\u001b[0m",
      "\u001b[0;31mNameError\u001b[0m                                 Traceback (most recent call last)",
      "Cell \u001b[0;32mIn[14], line 5\u001b[0m\n\u001b[1;32m      2\u001b[0m     output \u001b[38;5;241m=\u001b[39m \u001b[38;5;124m\"\u001b[39m\u001b[38;5;124mFunctions are super useful\u001b[39m\u001b[38;5;124m\"\u001b[39m\n\u001b[1;32m      3\u001b[0m     \u001b[38;5;28;01mreturn\u001b[39;00m output\n\u001b[0;32m----> 5\u001b[0m \u001b[38;5;28mprint\u001b[39m(\u001b[43moutput\u001b[49m)\n",
      "\u001b[0;31mNameError\u001b[0m: name 'output' is not defined"
     ]
    }
   ],
   "source": [
    "def best_function():\n",
    "    output = \"Functions are super useful\"\n",
    "    return output\n",
    "\n",
    "print(output)"
   ]
  },
  {
   "cell_type": "markdown",
   "id": "d0856896-4f9f-4bd6-a88a-528f23e2fe05",
   "metadata": {},
   "source": [
    "Our error message says that *name 'output' is not defined*. Any variable that gets defined inside a function is not accessible outside the function. Functions are local environments that do not create objects in the global envrionme"
   ]
  },
  {
   "cell_type": "markdown",
   "id": "2260897c-021d-4881-b5c4-737c4bf5b552",
   "metadata": {},
   "source": [
    "## ValueError\n",
    "You used a valid function but the value you've attempted to pass through the function is incorrect."
   ]
  },
  {
   "cell_type": "markdown",
   "id": "5048cfc9-7da3-4526-a068-3f2f1506fb7a",
   "metadata": {},
   "source": [
    "### \"ValueError: invalid literal for int() with base 10: 'One hundred'\" (Writing out a number)"
   ]
  },
  {
   "cell_type": "code",
   "execution_count": 15,
   "id": "b4a6460b-77ea-4e5d-8836-522f46c32e7d",
   "metadata": {},
   "outputs": [
    {
     "ename": "ValueError",
     "evalue": "invalid literal for int() with base 10: 'One hundred'",
     "output_type": "error",
     "traceback": [
      "\u001b[0;31m---------------------------------------------------------------------------\u001b[0m",
      "\u001b[0;31mValueError\u001b[0m                                Traceback (most recent call last)",
      "Cell \u001b[0;32mIn[15], line 2\u001b[0m\n\u001b[1;32m      1\u001b[0m \u001b[38;5;66;03m# ValueError Example\u001b[39;00m\n\u001b[0;32m----> 2\u001b[0m hundred \u001b[38;5;241m=\u001b[39m \u001b[38;5;28;43mint\u001b[39;49m\u001b[43m(\u001b[49m\u001b[38;5;124;43m\"\u001b[39;49m\u001b[38;5;124;43mOne hundred\u001b[39;49m\u001b[38;5;124;43m\"\u001b[39;49m\u001b[43m)\u001b[49m\n",
      "\u001b[0;31mValueError\u001b[0m: invalid literal for int() with base 10: 'One hundred'"
     ]
    }
   ],
   "source": [
    "# ValueError Example\n",
    "hundred = int(\"One hundred\")"
   ]
  },
  {
   "cell_type": "markdown",
   "id": "b04e619f-f6f3-4fa1-87bd-5846b3d51781",
   "metadata": {},
   "source": [
    "This error message *invalid literal for int() with base 10* tells us that the string we passed through the int function is invalid. Python cannot parse a number written out in this way to what it would be as an integer."
   ]
  },
  {
   "cell_type": "markdown",
   "id": "adcfc9ab-8baf-4ae7-9615-bbf3247d4c74",
   "metadata": {},
   "source": [
    "### \"ValueError: max() arg is an empty sequence\" (Not providing a value to a function)"
   ]
  },
  {
   "cell_type": "code",
   "execution_count": 9,
   "id": "231ee130-10e4-4a3e-8261-54200bd5225e",
   "metadata": {},
   "outputs": [
    {
     "ename": "ValueError",
     "evalue": "max() arg is an empty sequence",
     "output_type": "error",
     "traceback": [
      "\u001b[0;31m---------------------------------------------------------------------------\u001b[0m",
      "\u001b[0;31mValueError\u001b[0m                                Traceback (most recent call last)",
      "Cell \u001b[0;32mIn[9], line 3\u001b[0m\n\u001b[1;32m      1\u001b[0m \u001b[38;5;66;03m# ValueError Example\u001b[39;00m\n\u001b[1;32m      2\u001b[0m my_list \u001b[38;5;241m=\u001b[39m []\n\u001b[0;32m----> 3\u001b[0m \u001b[38;5;28;43mmax\u001b[39;49m\u001b[43m(\u001b[49m\u001b[43mmy_list\u001b[49m\u001b[43m)\u001b[49m\n",
      "\u001b[0;31mValueError\u001b[0m: max() arg is an empty sequence"
     ]
    }
   ],
   "source": [
    "# ValueError Example\n",
    "my_list = []\n",
    "max(my_list)"
   ]
  },
  {
   "cell_type": "markdown",
   "id": "17d1467a-1fb5-4a9a-94ab-2135a9d54f8f",
   "metadata": {},
   "source": [
    "We created an empty list (maybe with the intent to populate it later) and then tried to find the max of it. Like the error message tells us, the argument for max is an empty sequence."
   ]
  },
  {
   "cell_type": "markdown",
   "id": "f80a1835-74a2-4804-a8ef-d5a659432e33",
   "metadata": {},
   "source": [
    "### \"ValueError: The column \"rating\" is not in the table. The table contains these columns: Votes, Rating, Title, Year, Decade, Highly Rated\" (Capitalization issues in Tables)"
   ]
  },
  {
   "cell_type": "code",
   "execution_count": 12,
   "id": "aa6f80e3-d639-41bd-9473-5e2497c3d993",
   "metadata": {},
   "outputs": [
    {
     "ename": "ValueError",
     "evalue": "The column \"rating\" is not in the table. The table contains these columns: Votes, Rating, Title, Year, Decade, Highly Rated",
     "output_type": "error",
     "traceback": [
      "\u001b[0;31m---------------------------------------------------------------------------\u001b[0m",
      "\u001b[0;31mValueError\u001b[0m                                Traceback (most recent call last)",
      "Cell \u001b[0;32mIn[12], line 1\u001b[0m\n\u001b[0;32m----> 1\u001b[0m \u001b[43mimdb\u001b[49m\u001b[38;5;241;43m.\u001b[39;49m\u001b[43mselect\u001b[49m\u001b[43m(\u001b[49m\u001b[38;5;124;43m\"\u001b[39;49m\u001b[38;5;124;43mrating\u001b[39;49m\u001b[38;5;124;43m\"\u001b[39;49m\u001b[43m)\u001b[49m\n",
      "File \u001b[0;32m/usr/local/lib/python3.8/dist-packages/datascience/tables.py:1272\u001b[0m, in \u001b[0;36mTable.select\u001b[0;34m(self, *column_or_columns)\u001b[0m\n\u001b[1;32m   1270\u001b[0m table \u001b[38;5;241m=\u001b[39m \u001b[38;5;28mtype\u001b[39m(\u001b[38;5;28mself\u001b[39m)()\n\u001b[1;32m   1271\u001b[0m \u001b[38;5;28;01mfor\u001b[39;00m label \u001b[38;5;129;01min\u001b[39;00m labels:\n\u001b[0;32m-> 1272\u001b[0m     \u001b[38;5;28mself\u001b[39m\u001b[38;5;241m.\u001b[39m_add_column_and_format(table, label, np\u001b[38;5;241m.\u001b[39mcopy(\u001b[38;5;28;43mself\u001b[39;49m\u001b[43m[\u001b[49m\u001b[43mlabel\u001b[49m\u001b[43m]\u001b[49m))\n\u001b[1;32m   1273\u001b[0m \u001b[38;5;28;01mreturn\u001b[39;00m table\n",
      "File \u001b[0;32m/usr/local/lib/python3.8/dist-packages/datascience/tables.py:281\u001b[0m, in \u001b[0;36mTable.__getitem__\u001b[0;34m(self, index_or_label)\u001b[0m\n\u001b[1;32m    280\u001b[0m \u001b[38;5;28;01mdef\u001b[39;00m \u001b[38;5;21m__getitem__\u001b[39m(\u001b[38;5;28mself\u001b[39m, index_or_label):\n\u001b[0;32m--> 281\u001b[0m     \u001b[38;5;28;01mreturn\u001b[39;00m \u001b[38;5;28;43mself\u001b[39;49m\u001b[38;5;241;43m.\u001b[39;49m\u001b[43mcolumn\u001b[49m\u001b[43m(\u001b[49m\u001b[43mindex_or_label\u001b[49m\u001b[43m)\u001b[49m\n",
      "File \u001b[0;32m/usr/local/lib/python3.8/dist-packages/datascience/tables.py:448\u001b[0m, in \u001b[0;36mTable.column\u001b[0;34m(self, index_or_label)\u001b[0m\n\u001b[1;32m    423\u001b[0m \u001b[38;5;250m\u001b[39m\u001b[38;5;124;03m\"\"\"Return the values of a column as an array.\u001b[39;00m\n\u001b[1;32m    424\u001b[0m \n\u001b[1;32m    425\u001b[0m \u001b[38;5;124;03mtable.column(label) is equivalent to table[label].\u001b[39;00m\n\u001b[0;32m   (...)\u001b[0m\n\u001b[1;32m    444\u001b[0m \u001b[38;5;124;03m    ``ValueError``: When the ``index_or_label`` is not in the table.\u001b[39;00m\n\u001b[1;32m    445\u001b[0m \u001b[38;5;124;03m\"\"\"\u001b[39;00m\n\u001b[1;32m    446\u001b[0m \u001b[38;5;28;01mif\u001b[39;00m (\u001b[38;5;28misinstance\u001b[39m(index_or_label, \u001b[38;5;28mstr\u001b[39m)\n\u001b[1;32m    447\u001b[0m         \u001b[38;5;129;01mand\u001b[39;00m index_or_label \u001b[38;5;129;01mnot\u001b[39;00m \u001b[38;5;129;01min\u001b[39;00m \u001b[38;5;28mself\u001b[39m\u001b[38;5;241m.\u001b[39mlabels):\n\u001b[0;32m--> 448\u001b[0m     \u001b[38;5;28;01mraise\u001b[39;00m \u001b[38;5;167;01mValueError\u001b[39;00m(\n\u001b[1;32m    449\u001b[0m         \u001b[38;5;124m'\u001b[39m\u001b[38;5;124mThe column \u001b[39m\u001b[38;5;124m\"\u001b[39m\u001b[38;5;132;01m{}\u001b[39;00m\u001b[38;5;124m\"\u001b[39m\u001b[38;5;124m is not in the table. The table contains \u001b[39m\u001b[38;5;124m'\u001b[39m\n\u001b[1;32m    450\u001b[0m         \u001b[38;5;124m'\u001b[39m\u001b[38;5;124mthese columns: \u001b[39m\u001b[38;5;132;01m{}\u001b[39;00m\u001b[38;5;124m'\u001b[39m\n\u001b[1;32m    451\u001b[0m         \u001b[38;5;241m.\u001b[39mformat(index_or_label, \u001b[38;5;124m'\u001b[39m\u001b[38;5;124m, \u001b[39m\u001b[38;5;124m'\u001b[39m\u001b[38;5;241m.\u001b[39mjoin(\u001b[38;5;28mself\u001b[39m\u001b[38;5;241m.\u001b[39mlabels))\n\u001b[1;32m    452\u001b[0m     )\n\u001b[1;32m    453\u001b[0m \u001b[38;5;28;01mif\u001b[39;00m (\u001b[38;5;28misinstance\u001b[39m(index_or_label, \u001b[38;5;28mint\u001b[39m)\n\u001b[1;32m    454\u001b[0m         \u001b[38;5;129;01mand\u001b[39;00m \u001b[38;5;129;01mnot\u001b[39;00m \u001b[38;5;241m0\u001b[39m \u001b[38;5;241m<\u001b[39m\u001b[38;5;241m=\u001b[39m index_or_label \u001b[38;5;241m<\u001b[39m \u001b[38;5;28mlen\u001b[39m(\u001b[38;5;28mself\u001b[39m\u001b[38;5;241m.\u001b[39mlabels)):\n\u001b[1;32m    455\u001b[0m     \u001b[38;5;28;01mraise\u001b[39;00m \u001b[38;5;167;01mValueError\u001b[39;00m(\n\u001b[1;32m    456\u001b[0m         \u001b[38;5;124m'\u001b[39m\u001b[38;5;124mThe index \u001b[39m\u001b[38;5;132;01m{}\u001b[39;00m\u001b[38;5;124m is not in the table. Only indices between \u001b[39m\u001b[38;5;124m'\u001b[39m\n\u001b[1;32m    457\u001b[0m         \u001b[38;5;124m'\u001b[39m\u001b[38;5;124m0 and \u001b[39m\u001b[38;5;132;01m{}\u001b[39;00m\u001b[38;5;124m are valid\u001b[39m\u001b[38;5;124m'\u001b[39m\n\u001b[1;32m    458\u001b[0m         \u001b[38;5;241m.\u001b[39mformat(index_or_label, \u001b[38;5;28mlen\u001b[39m(\u001b[38;5;28mself\u001b[39m\u001b[38;5;241m.\u001b[39mlabels) \u001b[38;5;241m-\u001b[39m \u001b[38;5;241m1\u001b[39m)\n\u001b[1;32m    459\u001b[0m     )\n",
      "\u001b[0;31mValueError\u001b[0m: The column \"rating\" is not in the table. The table contains these columns: Votes, Rating, Title, Year, Decade, Highly Rated"
     ]
    }
   ],
   "source": [
    "imdb.select(\"rating\")"
   ]
  },
  {
   "cell_type": "markdown",
   "id": "9db9fc01-fb49-4abf-8385-e98c9900bd5e",
   "metadata": {},
   "source": [
    "Python has a very helpful error message for this issue: *The column \"rating\" is not in the table. The table contains these columns: Votes, Rating, Title, Year, Decade, Highly Rated*. It tells us that the column we've selected is not in the Table and lists all of the columns in the Table. From this we can see that we haven't capitalized \"Rating\" correctly."
   ]
  },
  {
   "cell_type": "markdown",
   "id": "a0763d05-622e-4990-9b03-3ad12b9ac6d2",
   "metadata": {},
   "source": [
    "## AttributeError"
   ]
  },
  {
   "cell_type": "markdown",
   "id": "59739419-6514-4a7e-9f7c-36f9bff9a118",
   "metadata": {},
   "source": [
    "### \"AttributeError: 'numpy.ndarray' object has no attribute 'where'\" (Arrays versus Tables)"
   ]
  },
  {
   "cell_type": "code",
   "execution_count": 4,
   "id": "5fd0c6c7-da91-4a44-88c3-d48804287384",
   "metadata": {},
   "outputs": [
    {
     "ename": "AttributeError",
     "evalue": "'numpy.ndarray' object has no attribute 'where'",
     "output_type": "error",
     "traceback": [
      "\u001b[0;31m---------------------------------------------------------------------------\u001b[0m",
      "\u001b[0;31mAttributeError\u001b[0m                            Traceback (most recent call last)",
      "Cell \u001b[0;32mIn[4], line 2\u001b[0m\n\u001b[1;32m      1\u001b[0m ratings \u001b[38;5;241m=\u001b[39m imdb\u001b[38;5;241m.\u001b[39mcolumn(\u001b[38;5;124m\"\u001b[39m\u001b[38;5;124mRating\u001b[39m\u001b[38;5;124m\"\u001b[39m)\n\u001b[0;32m----> 2\u001b[0m \u001b[43mratings\u001b[49m\u001b[38;5;241;43m.\u001b[39;49m\u001b[43mwhere\u001b[49m(\u001b[38;5;124m\"\u001b[39m\u001b[38;5;124mRating\u001b[39m\u001b[38;5;124m\"\u001b[39m, are\u001b[38;5;241m.\u001b[39mabove(\u001b[38;5;241m8\u001b[39m))\n",
      "\u001b[0;31mAttributeError\u001b[0m: 'numpy.ndarray' object has no attribute 'where'"
     ]
    }
   ],
   "source": [
    "ratings = imdb.column(\"Rating\")\n",
    "ratings.where(\"Rating\", are.above(8))"
   ]
  },
  {
   "cell_type": "markdown",
   "id": "3bb2ce05-405a-449c-ae7c-8d9300b67a64",
   "metadata": {},
   "source": [
    "Our error message says *'numpy.ndarray' object has no attribute 'where'*. This is telling us that the ratings object we created is an array, but arrays can't use the attribute *where*. This may seem a little tricky but the key is that where only works on Tables. We should've used *.select* instead of *.column* to create a subset of the Table."
   ]
  },
  {
   "cell_type": "markdown",
   "id": "720fc7b0-35b9-47e4-acad-7786a4838e8a",
   "metadata": {},
   "source": [
    "## ModuleNotFoundError"
   ]
  },
  {
   "cell_type": "markdown",
   "id": "18abbef3-b357-4348-82b4-4361746ac9df",
   "metadata": {},
   "source": [
    "### \"ModuleNotFoundError: No module named 'nmpy'\" (Misspelling a package)"
   ]
  },
  {
   "cell_type": "code",
   "execution_count": 10,
   "id": "78239117-1c05-46a5-9119-bc608a8dd0d9",
   "metadata": {},
   "outputs": [
    {
     "ename": "ModuleNotFoundError",
     "evalue": "No module named 'nmpy'",
     "output_type": "error",
     "traceback": [
      "\u001b[0;31m---------------------------------------------------------------------------\u001b[0m",
      "\u001b[0;31mModuleNotFoundError\u001b[0m                       Traceback (most recent call last)",
      "Cell \u001b[0;32mIn[10], line 1\u001b[0m\n\u001b[0;32m----> 1\u001b[0m \u001b[38;5;28;01mimport\u001b[39;00m \u001b[38;5;21;01mnmpy\u001b[39;00m \u001b[38;5;28;01mas\u001b[39;00m \u001b[38;5;21;01mnp\u001b[39;00m\n",
      "\u001b[0;31mModuleNotFoundError\u001b[0m: No module named 'nmpy'"
     ]
    }
   ],
   "source": [
    "import nmpy as np"
   ]
  },
  {
   "cell_type": "markdown",
   "id": "009fe40a-efb9-4e3a-ad91-84540cbc25de",
   "metadata": {},
   "source": [
    "I've tried to import the numpy package here but Python says *No module named 'nmpy'*. We know that there is a numpy package, but if we look closely we've misspelled it here."
   ]
  },
  {
   "cell_type": "markdown",
   "id": "41f21cea-c2f2-46d4-953e-7bb5ad5b3f16",
   "metadata": {},
   "source": [
    "## TypeError\n",
    "Type errors usually occur from mixing different variable types that can't be mixed in that way."
   ]
  },
  {
   "cell_type": "markdown",
   "id": "c4697acc-08d3-47fb-a2fb-927f5235e4a3",
   "metadata": {},
   "source": [
    "### \"TypeError: unsupported operand type(s) for /: 'str' and 'int'\" (Mixing strings and ints)"
   ]
  },
  {
   "cell_type": "code",
   "execution_count": 13,
   "id": "ed9f02a0-20de-4426-9e46-ae54368f92c1",
   "metadata": {},
   "outputs": [
    {
     "ename": "TypeError",
     "evalue": "unsupported operand type(s) for /: 'str' and 'int'",
     "output_type": "error",
     "traceback": [
      "\u001b[0;31m---------------------------------------------------------------------------\u001b[0m",
      "\u001b[0;31mTypeError\u001b[0m                                 Traceback (most recent call last)",
      "Cell \u001b[0;32mIn[13], line 1\u001b[0m\n\u001b[0;32m----> 1\u001b[0m \u001b[38;5;124;43m\"\u001b[39;49m\u001b[38;5;124;43m3\u001b[39;49m\u001b[38;5;124;43m\"\u001b[39;49m\u001b[43m \u001b[49m\u001b[38;5;241;43m/\u001b[39;49m\u001b[43m \u001b[49m\u001b[38;5;241;43m3\u001b[39;49m\n",
      "\u001b[0;31mTypeError\u001b[0m: unsupported operand type(s) for /: 'str' and 'int'"
     ]
    }
   ],
   "source": [
    "\"3\" / 3"
   ]
  },
  {
   "cell_type": "markdown",
   "id": "74f64d9d-57d8-43e5-a95a-f57cda158b0d",
   "metadata": {},
   "source": [
    "Anything in quotation marks is recognized as a string by Python. So here it thinks you are trying to divide a string by an integer which it isn't able to do. With this error, check that the objects you are trying to use are of the same type. If you can't tell, try using the type(\"3\") function."
   ]
  },
  {
   "cell_type": "markdown",
   "id": "76baaf4d-de4e-4e56-92c9-cb1eb3e8eb38",
   "metadata": {},
   "source": [
    "## Thinking Like a Programmer \n",
    "\n",
    "The best way to debug is to think like a programmer. Break the problem down into its simplest parts: if you're working with a bugged loop and can't find the error, take the code outside of the loop and validate a single condition. If you're working with a function you're creating, validate one piece of the function at a time so that you know exactly when an error pops up. Print objects often, double check casing, and be thorough when writing your code to minimize errors downstream. \n",
    "\n",
    "The most important thing is not to become frustrated. If you panic and start trying too many things, you will only generate more errors and become more flustered. At the end of the day, the program is going to do exactly what you tell it based on the rules of the language. That doesn't mean it can't be frustrating, but that means that the answer is usually something small—a missing punctuation mark, errors in casing, or something else. It's something you can solve, however, and the better at programming you become, the better at debugging you will get (and the less you will have to do it). Hang in there!"
   ]
  }
 ],
 "metadata": {
  "kernelspec": {
   "display_name": "Python 3 (ipykernel)",
   "language": "python",
   "name": "python3"
  },
  "language_info": {
   "codemirror_mode": {
    "name": "ipython",
    "version": 3
   },
   "file_extension": ".py",
   "mimetype": "text/x-python",
   "name": "python",
   "nbconvert_exporter": "python",
   "pygments_lexer": "ipython3",
   "version": "3.8.10"
  }
 },
 "nbformat": 4,
 "nbformat_minor": 5
}
