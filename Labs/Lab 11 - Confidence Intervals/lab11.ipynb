{
 "cells": [
  {
   "cell_type": "markdown",
   "metadata": {},
   "source": [
    "# Lab 11: Bootstrapping and Confidence Intervals\n",
    "\n",
    "Bootstrapping is a very popular method of inference that avoids making assumptions about the shape of sampling distributions. What it lacks in efficiency, it makes up for in rigor. Let's try it out!\n",
    "\n",
    "Please complete this lab by providing answers in cells after the question. Use **Code** cells to write and run any code you need to answer the question and **Markdown** cells to write out answers in words. After you are finished with the assignment, remember to download it as an **.html file** and submit it in **ELMS**."
   ]
  },
  {
   "cell_type": "code",
   "execution_count": 2,
   "metadata": {},
   "outputs": [],
   "source": [
    "# These lines import the Numpy and Datascience modules.\n",
    "import numpy as np\n",
    "import datascience as ds\n",
    "\n",
    "# These lines do some fancy plotting magic\n",
    "import matplotlib\n",
    "# Required to view plots in a notebook\n",
    "%matplotlib inline\n",
    "import matplotlib.pyplot as plt\n",
    "# This is just to make the plots look a certain way\n",
    "plt.style.use('fivethirtyeight')"
   ]
  },
  {
   "cell_type": "markdown",
   "metadata": {},
   "source": [
    "## Motivating Question\n",
    "\n",
    "Suppose we wanted to know the answer to the following question:\n",
    "\n",
    "**What is the median salary of all employees of the City of San Francisco?**\n",
    "\n",
    "Note that we aren't interested in whether the median salary is higher or lower than anything. We just wanted to know what the value is. This might be useful for getting an idea of what city employees generally make. Using a mean might not be the best measure, because we expect the salaries to be heavily right skewed, with a few people making much more than most.\n",
    "\n",
    "## City of San Francisco Employee Salaries\n",
    "\n",
    "The City of San Francisco makes the salary and compensation information for all of their employees available publicly through the [SF Open Data website](https://datasf.org/opendata/). We have pulled the 2015 data inside `san_francisco_2015.csv`. \n",
    "\n",
    "We will treat this full data set as the population. (This is for illustration. Remember, in practice, we almost never have access to the population.) In general, when creating confidence intervals, you will only have access to one sample such as the `our_sample` object created below. In this lab, we are using the full population data for demonstrative purposes to explore the properties of confidence intervals.\n",
    "\n",
    "Let's start by bringing in the population data and taking a look at the median Total Salary. We remove the rows with salaries below 10,000 to make sure we aren't capturing people who may be recorded with very low values because they were employed only for a short period of time. "
   ]
  },
  {
   "cell_type": "code",
   "execution_count": 3,
   "metadata": {},
   "outputs": [
    {
     "data": {
      "text/html": [
       "<table border=\"1\" class=\"dataframe\">\n",
       "    <thead>\n",
       "        <tr>\n",
       "            <th>Year Type</th> <th>Year</th> <th>Organization Group Code</th> <th>Organization Group</th> <th>Department Code</th> <th>Department</th> <th>Union Code</th> <th>Union</th> <th>Job Family Code</th> <th>Job Family</th> <th>Job Code</th> <th>Job</th> <th>Employee Identifier</th> <th>Salaries</th> <th>Overtime</th> <th>Other Salaries</th> <th>Total Salary</th> <th>Retirement</th> <th>Health/Dental</th> <th>Other Benefits</th> <th>Total Benefits</th> <th>Total Compensation</th>\n",
       "        </tr>\n",
       "    </thead>\n",
       "    <tbody>\n",
       "        <tr>\n",
       "            <td>Calendar </td> <td>2015</td> <td>2                      </td> <td>Public Works, Transportation & Commerce</td> <td>WTR            </td> <td>PUC Water Department                  </td> <td>21        </td> <td>Prof & Tech Engineers - Miscellaneous, Local 21 </td> <td>2400           </td> <td>Lab, Pharmacy & Med Techs    </td> <td>2481    </td> <td>Water Qualitytech I/II     </td> <td>21538              </td> <td>82146   </td> <td>0       </td> <td>0             </td> <td>82146       </td> <td>16942.2   </td> <td>12340.9      </td> <td>6337.73       </td> <td>35620.8       </td> <td>117767            </td>\n",
       "        </tr>\n",
       "        <tr>\n",
       "            <td>Calendar </td> <td>2015</td> <td>2                      </td> <td>Public Works, Transportation & Commerce</td> <td>DPW            </td> <td>General Services Agency - Public Works</td> <td>12        </td> <td>Carpet, Linoleum and Soft Tile Workers, Local 12</td> <td>7300           </td> <td>Journeyman Trade             </td> <td>7393    </td> <td>Soft Floor Coverer         </td> <td>5459               </td> <td>32165.8 </td> <td>973.19  </td> <td>848.96        </td> <td>33987.9     </td> <td>0         </td> <td>4587.51      </td> <td>2634.42       </td> <td>7221.93       </td> <td>41209.8           </td>\n",
       "        </tr>\n",
       "        <tr>\n",
       "            <td>Calendar </td> <td>2015</td> <td>4                      </td> <td>Community Health                       </td> <td>DPH            </td> <td>Public Health                         </td> <td>790       </td> <td>SEIU - Miscellaneous, Local 1021                </td> <td>1600           </td> <td>Payroll, Billing & Accounting</td> <td>1636    </td> <td>Health Care Billing Clerk 2</td> <td>41541              </td> <td>71311   </td> <td>5757.98 </td> <td>0             </td> <td>77069       </td> <td>14697.6   </td> <td>12424.5      </td> <td>6370.06       </td> <td>33492.2       </td> <td>110561            </td>\n",
       "        </tr>\n",
       "    </tbody>\n",
       "</table>\n",
       "<p>... (36922 rows omitted)</p>"
      ],
      "text/plain": [
       "<IPython.core.display.HTML object>"
      ]
     },
     "metadata": {},
     "output_type": "display_data"
    }
   ],
   "source": [
    "population = ds.Table.read_table('san_francisco_2015.csv').where('Total Salary', ds.are.above(10000))\n",
    "population.show(3)"
   ]
  },
  {
   "cell_type": "markdown",
   "metadata": {},
   "source": [
    "We can look at the histogram of Total Salary to get an idea of what the population distribution looks like. We also find the median. This is the \"unknown\" population value that we will try to estimate using confidence intervals."
   ]
  },
  {
   "cell_type": "code",
   "execution_count": null,
   "metadata": {},
   "outputs": [],
   "source": [
    "pop_median = np.median(population.column('Total Salary'))\n",
    "sf_bins = np.arange(0, 700000, 25000)\n",
    "population.hist('Total Salary', bins=sf_bins)\n",
    "print(\"Population Median = \", pop_median)"
   ]
  },
  {
   "cell_type": "markdown",
   "metadata": {},
   "source": [
    "## Taking a Sample\n",
    "\n",
    "If, as is usually the case, we did not have access to the full population, we might have taken a sample and tried to estimate the population median. Let's say we went out and took a simple random sample of 300 employees of the City of San Francisco and asked them what their salary was. We'll show what this process might have been like by using `.sample()`. Note that we are using `with_replacement = False` because we are simply showing what might have happened if we actually went out into the physical world and surveyed these people. "
   ]
  },
  {
   "cell_type": "code",
   "execution_count": null,
   "metadata": {},
   "outputs": [],
   "source": [
    "### Random sample of size 300\n",
    "population_salary = population.select('Total Salary')\n",
    "our_sample = population_salary.sample(300, with_replacement = False)\n",
    "our_sample_median = np.median(our_sample.column('Total Salary'))\n",
    "our_sample.hist('Total Salary', bins=sf_bins)\n",
    "print(\"Sample Median = \", our_sample_median)"
   ]
  },
  {
   "cell_type": "markdown",
   "metadata": {},
   "source": [
    "We will use `our_sample` as the sample that we use to estimate the median salary. Above, we calculated the **point estimate**—the single number that acts as our estimate—using the sample median. This is a reasonable estimate of the population median, but we might not be sure about how close we are the actual population median. In order to figure out our margin of error of this estimate, we can use bootstrap samples. A bootstrap sample is a random sample from the original data of the same size with replacement. If there were 100 people in the sample originally, I would randomly sample 100 observations from the dataset, and since it is with replacement, some rows will be sampled more than once and some not at all in a particular bootstrap sample (at least 1,000). Typically, you want to collect many bootstrap samples to generate an empirical sampling distribution. The idea is that the original sample resembles the population. If this is true, then you can use the original sample as the sampling frame, draw the 1,000+ bootstrap samples with replacement, and compute a statistic of interest in each resample (here, the median). This will leave you with 1,000+ medians that form the empirical sampling distribution of the median. (This approximates what we may have observed had we actually conducted 1,000+ studies of the same size and drawn data from the same population, computing the median in each.) We can use this empirical sampling distribution to construct confidence intervals for inference (e.g., about whether the population median is different from zero). You can create a bootstrap confidence interval a number of ways, but the most popular way is to sort the distribution of estimates and take, if it's a 95% confidence interval, the 2.5th and 97.5th percentile values and observing whether zero is between the values. If not, then you would reject the null hypothesis. \n",
    "\n",
    "First, let's take one bootstrap sample. Use `.sample()` to take a single bootstrap sample."
   ]
  },
  {
   "cell_type": "markdown",
   "metadata": {},
   "source": [
    "<font color = 'red'>**Question 1: Using `our_sample`, take one bootstrap sample of `Total Salary` assign it to `one_bootstrap_sample`.**</font>\n",
    "\n"
   ]
  },
  {
   "cell_type": "code",
   "execution_count": null,
   "metadata": {},
   "outputs": [],
   "source": [
    "one_bootstrap_sample = ...\n",
    "np.median(one_bootstrap_sample.column('Total Salary'))"
   ]
  },
  {
   "cell_type": "markdown",
   "metadata": {},
   "source": [
    "Next, we can take the code above and define a function that takes a bootstrap sample and calculates the median of that bootstrap sample. This will let us use a loop to generate many bootstrap samples, and help us create our confidence interval. \n",
    "\n",
    "The next few questions walk through this process of generating a confidence interval. Remember, the steps in this simulation process are similar to a hypothesis test:\n",
    "- Define a function that performs the simulation (the bootstrap sample) and calculates the statistic (median).\n",
    "- Use a loop to do this simulation many times, storing the statistic of each iteration in an array (`bootstrap_medians`).\n",
    "- Use the statistics collected from the simulation to make your conclusion."
   ]
  },
  {
   "cell_type": "markdown",
   "metadata": {},
   "source": [
    "<font color = 'red'>**Question 2: Next, create a function called `one_bootstrap_median` that takes a bootstrap sample, then calculates the median of `Total Salary`. This function should return one value, the median of the one bootstrap sample that we take.**</font>\n",
    "\n",
    "*Hint: You should be using a lot of the same code as above.*"
   ]
  },
  {
   "cell_type": "code",
   "execution_count": null,
   "metadata": {},
   "outputs": [],
   "source": [
    "def one_bootstrap_median(samp):\n",
    "    ...\n",
    "    return ...\n",
    "\n",
    "one_bootstrap_median(our_sample)"
   ]
  },
  {
   "cell_type": "markdown",
   "metadata": {},
   "source": [
    "<font color = 'red'>**Question 3: Use the `one_bootstrap_median` function and a `for` loop to generate 1000 bootstrap samples and assign the bootstrap medians to an array called `bootstrap_medians`.**</font>\n",
    "\n",
    "*Hint: The loop should be very similar to what we've done in hypothesis tests.*"
   ]
  },
  {
   "cell_type": "code",
   "execution_count": null,
   "metadata": {},
   "outputs": [],
   "source": [
    "bootstrap_medians = ds.make_array()\n",
    "num_bootstraps = 1000\n",
    "\n",
    "for ... in ...:\n",
    "    ..."
   ]
  },
  {
   "cell_type": "markdown",
   "metadata": {},
   "source": [
    "<font color = 'red'>**Question 4: Find the 95% confidence interval. Assign the left bound to `left` and the right bound to `right`.**</font>\n",
    "\n",
    "*Hint: Remember, the `ds.percentile` function can help you find the middle 95%*\n",
    "\n"
   ]
  },
  {
   "cell_type": "code",
   "execution_count": null,
   "metadata": {},
   "outputs": [],
   "source": [
    "left = ...\n",
    "right = ...\n",
    "print('We are 95% confident that the median salary of all SF City employees is between', left, 'and', right)"
   ]
  },
  {
   "cell_type": "markdown",
   "metadata": {},
   "source": [
    "We can visualize the confidence interval on the histogram. The green point is the population median (the true value that we are trying to estimate) for reference."
   ]
  },
  {
   "cell_type": "code",
   "execution_count": null,
   "metadata": {},
   "outputs": [],
   "source": [
    "med_bins = np.arange(65000, 90001, 2500)\n",
    "Table().with_column('Bootstrap Medians', bootstrap_medians).hist('Bootstrap Medians', bins=med_bins)\n",
    "plt.plot([left, right], [0, 0], color='yellow', lw=10, zorder=1)\n",
    "plt.scatter(pop_median, 0, color='green', s=60, zorder=2)"
   ]
  },
  {
   "cell_type": "markdown",
   "metadata": {},
   "source": [
    "Does the interval contain the population median? We can tell in this case because we know the population value, but in general, we won't know what it is, so we'd just need to have some level of confidence that the interval contains the population median. With the interval we've created here, we'd be 95% confident that our interval contains the population value. (What a confidence interval really means is that 95% of the confidence intervals constructed from the same population, same sample size, in a similar way, will contain the true population value. There **isn't** necessarily a 95% probability that our specific confidence interval contains the mean, hence why we use the term \"confidence.\" We will demonstrate this below."
   ]
  },
  {
   "cell_type": "markdown",
   "metadata": {},
   "source": [
    "## Theoretical Scenario: Creating Many Confidence Intervals\n",
    "\n",
    "What does it mean to be \"95% confident\"? One way of thinking about it is that it's our level of confidence that the method we used to generate the confidence interval will actually contain the population value. Remember, our goal is to create an interval in which we're fairly certain that the population value lies. However, because of randomness in our data, we might end up with a sample that's unusual and gives a bad estimate of the population. \n",
    "\n",
    "In this section, we'll explore what might have happened if we were to draw 100 different samples and generate bootstrap confidence intervals using those samples. "
   ]
  },
  {
   "cell_type": "markdown",
   "metadata": {},
   "source": [
    "<font color = 'red'>**Question 5: Define a function called `bootstrap_confidence_interval` that takes in one original sample (`original_sample`), the number of bootstrap samples that we want to take (`num_repetitions`), and the confidence level as a percentage (`confidence_level`). This function should return an array of two values: the left bound and the right bound. Test this function out by using it with our sample using `num_repetitions = 500` and `confidence_level = 95`.**</font>\n",
    "\n",
    "*Hint: Refer to your answers to questions 3 and 4. You can find the percentiles for the left and right bounds using the below formula:*\n",
    "- left bound percentile: `(100-confidence_level)/2` \n",
    "- right bound percentile: `100 - (100 - confidence_level)/2`"
   ]
  },
  {
   "cell_type": "code",
   "execution_count": null,
   "metadata": {},
   "outputs": [],
   "source": [
    "def bootstrap_confidence_interval(original_sample, num_repetitions, confidence_level):\n",
    "    ...\n",
    "\n",
    "bootstrap_confidence_interval(our_sample, 500, 95)"
   ]
  },
  {
   "cell_type": "markdown",
   "metadata": {},
   "source": [
    "The `bootstrap_confidence_interval` function is what we can use to calculate our confidence interval with our original (non-bootstrap) sample. What would have happened if we had, for example, gone out into the world and collected 100 of these samples? Would the 90% confidence interval always contain the true population value? Let's find out. \n",
    "\n",
    "<font color = 'red'>**Question 6: Create a Table called `intervals` that contains the left and right bounds of each confidence interval that you might have created if you had gone out and collected a sample 100 times. Use a sample size of 300 for each \"original sample\". Use 500 bootstrap samples for each iteration.**</font>\n",
    "\n",
    "*Hint: The `original_sample` should be a sample without replacement from the full population. Remember, we are trying to see what would have happened if we went out an interviewed 300 people 100 times. Use `population_salary` (rather than `population`) to make this code run faster.*\n",
    "\n",
    "*Note: Much of the set up is provided below. Remember that we are using a 90% confidence interval here, not a 95% confidence interval.*\n",
    "\n",
    "*This might take a little bit of time! Don't worry, that's normal. We are doing 100 iterations of taking 500 bootstrap samples.*\n"
   ]
  },
  {
   "cell_type": "code",
   "execution_count": null,
   "metadata": {},
   "outputs": [],
   "source": [
    "left_ends = ds.make_array()\n",
    "right_ends = ds.make_array()\n",
    "\n",
    "for i in np.arange(100):\n",
    "    original_sample = ...\n",
    "    confidence_interval = ...\n",
    "    left_ends = np.append(left_ends, ...)\n",
    "    right_ends = np.append(right_ends, ...)\n",
    "\n",
    "intervals = ds.Table().with_columns(\n",
    "    'Left', left_ends,\n",
    "    'Right', right_ends\n",
    ") \n",
    "\n",
    "intervals.show(3)"
   ]
  },
  {
   "cell_type": "markdown",
   "metadata": {},
   "source": [
    "Using this `interval` Table, we can now see how many times our confidence intervals contained the population median."
   ]
  },
  {
   "cell_type": "markdown",
   "metadata": {},
   "source": [
    "<font color = 'red'>**Question 7: What proportion of the time did the confidence interval contain the population value?**</font>\n",
    "\n",
    "*Hint*: You can use `.where()` with `intervals` twice to find the cases in which interval contained the population median. "
   ]
  },
  {
   "cell_type": "code",
   "execution_count": null,
   "metadata": {},
   "outputs": [],
   "source": [
    "\n",
    "\n",
    "\n"
   ]
  },
  {
   "cell_type": "markdown",
   "metadata": {},
   "source": [
    "<font color = 'red'>**Question 8: What do you think would have happened if we used an 80% confidence interval?**</font>"
   ]
  },
  {
   "cell_type": "markdown",
   "metadata": {},
   "source": []
  },
  {
   "cell_type": "markdown",
   "metadata": {},
   "source": [
    "This shows a representation of what it means to be \"90% confident\". If 100 different people performed the same process of surveying 300 people, finding the sample median, and constructing a 90% confidence interval using their sample, we would expect about 90 of those confidence interval to contain the population median. \n",
    "\n",
    "In this way, there is still a small chance of making an error. We can construct a confidence interval that we are 90% (or 95% or 80% or 99%) confident contains the true population value, but we can't be absolutely sure. However, this gives us a way of quantifying that error."
   ]
  },
  {
   "cell_type": "markdown",
   "metadata": {},
   "source": [
    "## Using Total Compensation\n",
    "\n",
    "Now, let's try creating a confidence interval for a different variable. We can take a look at the `Total Compensation` variable. "
   ]
  },
  {
   "cell_type": "code",
   "execution_count": null,
   "metadata": {},
   "outputs": [],
   "source": [
    "pop_median = np.median(population.column('Total Compensation'))\n",
    "sf_bins = np.arange(0, 700000, 25000)\n",
    "population.hist('Total Compensation', bins=sf_bins)\n",
    "print(\"Population Median = \", pop_median)"
   ]
  },
  {
   "cell_type": "code",
   "execution_count": null,
   "metadata": {},
   "outputs": [],
   "source": [
    "compensation_sample = population.sample(300, with_replacement = False).select('Total Compensation')\n",
    "compensation_sample.show(5)"
   ]
  },
  {
   "cell_type": "markdown",
   "metadata": {},
   "source": [
    "<font color = 'red'>**Question 9: Using `compensation_sample`, construct a 99% confidence interval for the `Total Compensation`. Interpret the confidence interval in context.**</font>\n",
    "\n",
    "*Note: Remember, you shouldn't do all of the steps we did above in the \"Theoretical Scenario\" section. That was just to see what might happen if we were to create many confidence intervals to explore how we should think about confidence intervals. Normally, you just create one confidence interval.*\n",
    "\n",
    "*Note 2: Use the median function above but now change the variable from \"Total Salary\" to \"Total Compensation\".  This is why we create functions!*"
   ]
  },
  {
   "cell_type": "code",
   "execution_count": null,
   "metadata": {},
   "outputs": [],
   "source": []
  }
 ],
 "metadata": {
  "kernelspec": {
   "display_name": "Python 3 (ipykernel)",
   "language": "python",
   "name": "python3"
  },
  "language_info": {
   "codemirror_mode": {
    "name": "ipython",
    "version": 3
   },
   "file_extension": ".py",
   "mimetype": "text/x-python",
   "name": "python",
   "nbconvert_exporter": "python",
   "pygments_lexer": "ipython3",
   "version": "3.8.10"
  }
 },
 "nbformat": 4,
 "nbformat_minor": 4
}
