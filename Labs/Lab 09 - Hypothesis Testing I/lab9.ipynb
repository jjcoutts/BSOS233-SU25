{
 "cells": [
  {
   "cell_type": "markdown",
   "metadata": {
    "tags": []
   },
   "source": [
    "# Lab 9: Hypothesis Testing I\n",
    "\n",
    "In this lab, we'll be testing techniques that were introduced in lecture to evaluate the idea of the therapeutic touch via null hypothesis significance testing. The therapeutic touch is the idea that some practictioners can feel and massage your human energy field. \n",
    "\n",
    "Please complete this lab by providing answers in cells after the question. Use **Code** cells to write and run any code you need to answer the question and **Markdown** cells to write out answers in words. After you are finished with the assignment, remember to download it as an **.html file** and submit it in **ELMS**."
   ]
  },
  {
   "cell_type": "code",
   "execution_count": 1,
   "metadata": {},
   "outputs": [],
   "source": [
    "# These lines import the Numpy and Datascience modules.\n",
    "import numpy as np\n",
    "import datascience as ds\n",
    "\n",
    "# These lines do some fancy plotting magic\n",
    "import matplotlib\n",
    "# Required to view plots in a notebook\n",
    "%matplotlib inline\n",
    "import matplotlib.pyplot as plt\n",
    "# This is just to make the plots look a certain way\n",
    "plt.style.use('fivethirtyeight')"
   ]
  },
  {
   "cell_type": "markdown",
   "metadata": {},
   "source": [
    "### Review of Null and Alternative Hypotheses\n",
    "\n",
    "You may recall from a prior statistics class (or our class): When it comes to hypothesis testing, there are two hypotheses pertinent to our investigation...the **null** and **alternative** hypotheses, denoted H<sub>0</sub> and H<sub>1</sub>, respectively. The null hypothesis is a statement of the default position, or the idea that nothing is happening. If we were studying the effects of a weight-loss intervention by conducting an experiment, a null hypothesis might be, H<sub>0</sub>: There will be no difference in weight between the treatment and non-treatment groups (or, alternatively, there will be no effect of the weight-loss intervention on weight loss). If we were conducting a correlational study on smoking and lung cancer, the null hypothesis may be H<sub>0</sub>: There will be no correlation between the number of cigarettes one smokes and lung cancer. \n",
    "\n",
    "The alternative hypothesis, however, is the compliment (i.e., opposite) of the null hypothesis. This statement is making a design-specific prediction about the nature of the relationship between the predictor and outcome. In the example above, the alternative hypotheses would be H<sub>1</sub>: There will be a difference in weight between the treatment and non-treatment groups and H<sub>1</sub>: There will be a correlation between smoking cigarettes and lung cancer. \n",
    "\n",
    "### Review of One- and Two-Tailed Hypotheses\n",
    "\n",
    "There are **two** types of hypotheses: **one-tailed** and **two-tailed**. One-tailed hypotheses make a prediction about a specific size or in a specific direction. For example, H<sub>0</sub>: There will be a *negative or no* correlation between smoking and lung cancer vs. H<sub>1</sub>: There will be a *positive* correlation between smoking and lung cancer. A two-tailed hypothesis is agnositic about the nature and direction of the relationship, which is largely what our examples above were. e.g., H<sub>0</sub>: There will be no relationship between smoking and lung cancer vs. H<sub>1</sub>: There will be a relationship between smoking and lung cancer.\n",
    "\n",
    "This distinction is important because in statistics, we test against the null hypothesis. That means that based on the data we collect and analyses we conduct, we either *reject* or *fail-to-reject* the null hypothesis. We never *confirm* it. However, if we can *reject* the idea that nothing is happening, we can deduct or infer that something is happening. If we're making a two-tailed hypothesis, we're okay with that something being positive or negative, or being above or below a specific value. However, if we make a one-tailed prediction, then we are excluding effects in a particular direction in favor of our chosen one. \n",
    "\n",
    "It will be essential for you in research, modeling, and this class to become adept at **forming**,**evaluating**, and **interpreting** null/alternative hypotheses and the results of an analysis. \n",
    "\n",
    "### What is the Therapeutic Touch\n",
    "\n",
    "The Therapeutic Touch (TT) is the idea that everyone can feel the Human Energy Field (HEF) around individuals. Certain practictioners claim they have the ability to feel the HEF and can massage it in order to promote health and relaxation in individuals. Those who practice TT have described different people's HEFs as \"warm as Jell-O\" and \"tactile as taffy\". \n",
    "\n",
    "TT was a popular technique used throughout the 20th century that was toted to be a great way to bring balance to a person's health. \n",
    "\n",
    "### Emily Rosa\n",
    "\n",
    "[Emily Rosa](https://en.wikipedia.org/wiki/Emily_Rosa) was a 4th grade student who had wide exposure to the world of TT due to her parents. Her parents were both medical practitioners and skeptics of the idea of TT. \n",
    "\n",
    "For her 4th grade science fair project, Emily decided to test whether or not TT practitioners could truly interact with a person's HEF.\n",
    "\n",
    "### Emily's Experiment\n",
    "\n",
    "Emily's experiment was clean, simple, and effective. Due to her parents' occupations in the medical field, she had wide access to people who claimed to be TT practitioners. \n",
    "\n",
    "Emily took 21 TT practitioners and used them for her science experiment. She would take a TT practitioner and ask them to extend their hands through a screen (which they can't see through). Emily would be on the other side and would flip a coin. Depending on how the coin landed, she would put out either her left hand or her right hand. The TT practitioner would then have to correctly answer which hand Emily put out. Overall, through 210 samples, the practitioner picked the correct hand 44% of the time. \n",
    "\n",
    "Emily's main goal here was to test whether or not the TT practicioners' guesses were random, like the flip of a coin. In most medical experiments, this is the norm. We want to test whether the treatment has an effect, *not* whether the treatment actually works. \n",
    "\n",
    "We will now begin to formulate this experiment in terms of the terminology we learned in this course. "
   ]
  },
  {
   "cell_type": "markdown",
   "metadata": {},
   "source": [
    "### Step 1: State the Hypotheses"
   ]
  },
  {
   "cell_type": "markdown",
   "metadata": {},
   "source": [
    "<font color = 'red'>**Question 1: What is Emily's null hypothesis for the experiment? What is the alternative hypothesis?**</font>"
   ]
  },
  {
   "cell_type": "markdown",
   "metadata": {
    "for_assignment_type": "student"
   },
   "source": [
    "\n"
   ]
  },
  {
   "cell_type": "markdown",
   "metadata": {},
   "source": [
    "<font color = 'red'>**Question 2: Remember that the practitioner got the correct answer 44% of the time. According to Emily's (null) hypothesis, on average, what proportion of times do we expect the practitioner to guess the correct hand? Make sure your answer is between 0 and 1.**</font>"
   ]
  },
  {
   "cell_type": "code",
   "execution_count": null,
   "metadata": {},
   "outputs": [],
   "source": [
    "expected_correct = ...\n",
    "expected_correct"
   ]
  },
  {
   "cell_type": "markdown",
   "metadata": {},
   "source": [
    "The goal now is to see if our deviation from this expected proportion of correct answers is due to something other than chance. \n",
    "\n",
    "<font color = 'red'>**Question 3: What is the statistic that we can use to assess Emily's model? Choose from the following options:**</font>\n",
    "\n",
    "1. The difference of the expected percent correct and the actual percent correct\n",
    "2. The absolute difference of the expected percent correct and the actual percent correct\n",
    "3. The sum of the expected percent correct and the actual percent correct\n",
    "\n",
    "*Hint*: Remember, we want to know if there is ANY effect, not whether it was less than or greater than what we expected."
   ]
  },
  {
   "cell_type": "markdown",
   "metadata": {
    "for_assignment_type": "student"
   },
   "source": [
    "*Your Answer Here*"
   ]
  },
  {
   "cell_type": "markdown",
   "metadata": {},
   "source": [
    "### Step 2: Calculate the Test Statistic\n",
    "\n",
    "<font color = 'red'>**Question 4: Define the function `statistic` which takes in an expected proportion and an actual proportion, and returns the value of a statistic chosen above. Assume that you are taking in proportions, but you want to return your answer as a percentage.**</font>\n",
    "\n",
    "*Hint:* Remember we are asking for a **percentage**, not a proportion. That is, make sure to multiply by 100 after you use the proportions in the arguments."
   ]
  },
  {
   "cell_type": "code",
   "execution_count": null,
   "metadata": {},
   "outputs": [],
   "source": [
    "def statistic(expected_prop, actual_prop):\n",
    "    ...\n"
   ]
  },
  {
   "cell_type": "markdown",
   "metadata": {},
   "source": [
    "<font color = 'red'>**Question 5: Use your newly defined function to calculate the observed statistic from Emily's experiment.**</font>"
   ]
  },
  {
   "cell_type": "code",
   "execution_count": null,
   "metadata": {},
   "outputs": [],
   "source": [
    "observed_statistic = ...\n",
    "observed_statistic"
   ]
  },
  {
   "cell_type": "markdown",
   "metadata": {},
   "source": [
    "With hypothesis testing, we want to answer the question: **Is this observed statistic consistent under Emily’s model? Or is the deviation from the expected proportion due to something other than chance?**\n",
    "\n",
    "In order to answer this question, we must simulate the experiment as though Emily's hypothesis was true, and calculate the statistic per simulation. To do this, we'll use the `ds.sample_proportions` function. The `ds.sample_proportions` function takes in two arguments: the number of samples to take, and an array representing a distribution of proportions. The function returns an array of the proportions after taking the number of samples from the first argument.\n",
    "\n",
    "So, for example, suppose we had two options, A and B, and A had a 0.4 probability of occuring, while B had a 0.6 probability of occurring. To find out what would happen in 100 trials, we can use the following:"
   ]
  },
  {
   "cell_type": "code",
   "execution_count": 6,
   "metadata": {
    "tags": []
   },
   "outputs": [
    {
     "data": {
      "text/plain": [
       "array([ 0.39,  0.61])"
      ]
     },
     "execution_count": 6,
     "metadata": {},
     "output_type": "execute_result"
    }
   ],
   "source": [
    "ds.sample_proportions(100, ds.make_array(0.4, 0.6))"
   ]
  },
  {
   "cell_type": "markdown",
   "metadata": {},
   "source": [
    "The result would be an array with the first value representing what proportion of times A happened out of the 100 trials, and the second value representing the proportion of times B happened.\n",
    "\n",
    "Note that the second argument needs to be an array with proportions that add up to 1. This can actually be an array with more than two values, such as if we want to simulate a roulette spin. There are 18 red spaces, 18 black spaces, and 2 green spaces. "
   ]
  },
  {
   "cell_type": "code",
   "execution_count": null,
   "metadata": {
    "tags": []
   },
   "outputs": [],
   "source": [
    "# Simulate 100 roulette spins\n",
    "# The distribution represents (red, black, green)\n",
    "ds.sample_proportions(100, ds.make_array(18/38, 18/38, 2/38))"
   ]
  },
  {
   "cell_type": "markdown",
   "metadata": {},
   "source": [
    "The first value in the output above represents how many of the 100 simulations came up red, the second value represents how many came up black, and the third represents how many came up green."
   ]
  },
  {
   "cell_type": "markdown",
   "metadata": {},
   "source": [
    "<font color = 'red'>**Question 6: To begin simulating, we should start by creating an array with two items in it. The first item should be the proportion of times, assuming that Emily's hypothesis is true, a TT practictioner picks the correct hand. The second item should be the proportion of times, under the same assumption, that the TT practicioner picks the incorrect hand. Assign `model_proportions` to this array.**</font>\n",
    "\n",
    "After this, use the `ds.sample_proportions` function to simulate Emily running through this experiment 210 times (as done in real life), and assign the proportion of *correct answers* to `simulation_proportion`. Lastly, define `one_statistic` to the statistic of this one simulation. "
   ]
  },
  {
   "cell_type": "code",
   "execution_count": null,
   "metadata": {},
   "outputs": [],
   "source": [
    "model_proportions = ...\n",
    "simulation_proportion = ..."
   ]
  },
  {
   "cell_type": "code",
   "execution_count": null,
   "metadata": {},
   "outputs": [],
   "source": [
    "# Remember, we wrote a function to make this step easier\n",
    "one_statistic = ...\n",
    "one_statistic"
   ]
  },
  {
   "cell_type": "markdown",
   "metadata": {},
   "source": [
    "### Step 3: Simulation\n",
    "\n",
    "The `one_statistic` value represents what would happen if we were to simulate once. We want to simulate many times to see what possible values of the test statistic we would expect to get under the null hypothesis. \n",
    "\n",
    "<font color = 'red'>**Question 7: Let's now see what the distribution of statistics is actually like under Emily's model.**</font>\n",
    "\n",
    "Define the function `simulation_and_statistic` to take in the number of times we want to run the experiment (`num_guesses`), the `model_proportions` array, and the expected proportion of times a TT practitioner would guess correctly under Emily's model. The function should simulate Emily running through the experiment 210 times and return the statistic of this one simulation. \n",
    "\n",
    "Then, using this function, write a `for` loop and run the simulation 1,000 times assuming Emily's (null) hypothesis is true. Assign this array to `simulated_statistics`."
   ]
  },
  {
   "cell_type": "code",
   "execution_count": null,
   "metadata": {
    "for_assignment_type": "student",
    "scrolled": true
   },
   "outputs": [],
   "source": [
    "def simulation_and_statistic(num_guesses, model_proportions, expected_correct):\n",
    "    \"\"\"\n",
    "    Simulates Emily running through this experiment 210 times.\n",
    "    Returns one statistic from the simulation.\n",
    "    Required libraries: \n",
    "    Default arguments: \n",
    "    \"\"\"\n",
    "    ...\n",
    "    return ..."
   ]
  },
  {
   "cell_type": "code",
   "execution_count": null,
   "metadata": {
    "for_assignment_type": "student",
    "scrolled": true
   },
   "outputs": [],
   "source": [
    "num_repetitions = 1000\n",
    "num_guesses = 210\n",
    "\n",
    "simulated_statistics = ...\n",
    "\n",
    "for ... in ...:\n",
    "    ..."
   ]
  },
  {
   "cell_type": "markdown",
   "metadata": {},
   "source": [
    "### Step 4: Conclusion\n",
    "\n",
    "Let's view the distribution of the simulated statistics under Emily's hypothesis, and visually compare how the observed statistic compares to the rest. For this part, we will assume that we are using an alpha level of .05."
   ]
  },
  {
   "cell_type": "code",
   "execution_count": null,
   "metadata": {},
   "outputs": [],
   "source": [
    "t = ds.Table().with_column('Simulated Statistics', simulated_statistics)\n",
    "t.hist()\n",
    "plt.scatter(observed_statistic, 0, color='red', s=30);"
   ]
  },
  {
   "cell_type": "markdown",
   "metadata": {},
   "source": [
    "We can make a visual argument as to whether we believe the observed statistic is consistent with Emily’s hypothesis. Formally, data scientists look at the area at or to the right of the observed statistic, and if that’s small (less than 5%), we declare it to be inconsistent."
   ]
  },
  {
   "cell_type": "markdown",
   "metadata": {},
   "source": [
    "<font color = 'red'>**Question 8: Calculate the proportion of simulated statistics greater than or equal to the observed statistic.**</font>"
   ]
  },
  {
   "cell_type": "code",
   "execution_count": null,
   "metadata": {
    "scrolled": true
   },
   "outputs": [],
   "source": [
    "proportion_greater_or_equal = ...\n",
    "proportion_greater_or_equal"
   ]
  },
  {
   "cell_type": "markdown",
   "metadata": {},
   "source": [
    "If the proportion of simulated statistics greater than or equal to the observed statistc is less than or equal to .05, then this is in favor of our alternative and we reject Emily's hypothesis. Otherwise, we do not have enough evidence against Emily's hypothesis. Note that this does **not** say that we accept Emily's hypothesis, but rather, that we just **fail to reject it**. \n",
    "\n",
    "This should help you make your own conclusions about Emily Rosa's experiment. \n",
    "\n",
    "Therapeutic touch fell out of use after this experiment, which was eventually accepted into one of the premier medical journals. TT practitioners hit back and accused Emily and her family of tampering with the results, while some claimed that Emily's bad spiritual mood towards therapeutic touch made it difficult to read her HEF. Whatever it may be, Emily's experiment is a classic example about how anyone can test anything they want (with the right resources)!"
   ]
  }
 ],
 "metadata": {
  "kernelspec": {
   "display_name": "Python 3 (ipykernel)",
   "language": "python",
   "name": "python3"
  },
  "language_info": {
   "codemirror_mode": {
    "name": "ipython",
    "version": 3
   },
   "file_extension": ".py",
   "mimetype": "text/x-python",
   "name": "python",
   "nbconvert_exporter": "python",
   "pygments_lexer": "ipython3",
   "version": "3.8.10"
  }
 },
 "nbformat": 4,
 "nbformat_minor": 4
}
