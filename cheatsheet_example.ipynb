{
 "cells": [
  {
   "cell_type": "markdown",
   "id": "c39deec8-9027-4bdb-825c-e5879292d8be",
   "metadata": {},
   "source": [
    "This is the difference between commands that index tables. \n",
    "- Tables cannot have arithmetic summaries\n",
    "- Tables can only be used for visualizations "
   ]
  },
  {
   "cell_type": "code",
   "execution_count": null,
   "id": "6e4931e0-21db-4b7c-b5d9-45d06b22cea0",
   "metadata": {},
   "outputs": [],
   "source": [
    "import datascience as ds\n",
    "import numpy as np \n",
    "\n",
    "cah = ds.Table.read_table(\"cah.csv\")\n",
    "\n",
    "# the select command will output a table\n",
    "cah.select(\"Gender\",\"Income\") # this is a two-column table\n",
    "\n",
    "# the column command will output a vector\n",
    "cah.column(\"Gender\")"
   ]
  }
 ],
 "metadata": {
  "kernelspec": {
   "display_name": "Python 3 (ipykernel)",
   "language": "python",
   "name": "python3"
  },
  "language_info": {
   "codemirror_mode": {
    "name": "ipython",
    "version": 3
   },
   "file_extension": ".py",
   "mimetype": "text/x-python",
   "name": "python",
   "nbconvert_exporter": "python",
   "pygments_lexer": "ipython3",
   "version": "3.8.10"
  }
 },
 "nbformat": 4,
 "nbformat_minor": 5
}
